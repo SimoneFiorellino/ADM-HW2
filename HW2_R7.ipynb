{
 "cells": [
  {
   "cell_type": "markdown",
   "metadata": {},
   "source": [
    "# [RQ7] The Pareto principle states that for many outcomes roughly 80% of consequences come from 20% of the causes. Also known as 80/20 rule, in e-commerce simply means that most of your business, around 80%, likely comes from about 20% of your customers.¶\n",
    "# Prove that the pareto principle applies to your store."
   ]
  },
  {
   "cell_type": "code",
   "execution_count": 1,
   "metadata": {},
   "outputs": [],
   "source": [
    "import pandas as pd\n",
    "import numpy as np\n",
    "import matplotlib.pyplot as plt"
   ]
  },
  {
   "cell_type": "code",
   "execution_count": 17,
   "metadata": {},
   "outputs": [],
   "source": [
    "dataset = pd.read_csv('2019-Oct.csv', header='infer',\n",
    "                      parse_dates = ['event_time'],\n",
    "                      date_parser=pd.to_datetime,\n",
    "                     nrows=200000)"
   ]
  },
  {
   "cell_type": "code",
   "execution_count": 18,
   "metadata": {},
   "outputs": [],
   "source": [
    "my_sum=0\n",
    "length = 0\n",
    "my_array = []\n",
    "x = dataset[dataset.event_type == 'purchase'].groupby([dataset.user_id])['price'].agg('sum').sort_values(ascending=False)"
   ]
  },
  {
   "cell_type": "code",
   "execution_count": 19,
   "metadata": {},
   "outputs": [],
   "source": [
    "for i in x:\n",
    "    my_sum+=int(i)\n",
    "    my_array.append(my_sum)\n",
    "    length+=1"
   ]
  },
  {
   "cell_type": "code",
   "execution_count": 20,
   "metadata": {},
   "outputs": [],
   "source": [
    "my_array_normalized = [float(i)/max(my_array) for i in my_array]"
   ]
  },
  {
   "cell_type": "code",
   "execution_count": 21,
   "metadata": {},
   "outputs": [
    {
     "data": {
      "image/png": "[encoded data removed]",
      "text/plain": [
       "<Figure size 432x288 with 1 Axes>"
      ]
     },
     "metadata": {
      "needs_background": "light"
     },
     "output_type": "display_data"
    }
   ],
   "source": [
    "plt.plot(my_array_normalized, label='my plot')\n",
    "plt.legend(bbox_to_anchor=(1, 0.2))\n",
    "plt.show()"
   ]
  },
  {
   "cell_type": "code",
   "execution_count": 22,
   "metadata": {},
   "outputs": [
    {
     "name": "stdout",
     "output_type": "stream",
     "text": [
      "685202\n"
     ]
    }
   ],
   "source": [
    "count=0\n",
    "sum_twenty=0\n",
    "\n",
    "for i in my_array:\n",
    "    count+=1\n",
    "    \n",
    "    if count==int(length/100*20):\n",
    "        sum_twenty+=i\n",
    "        break\n",
    "print(sum_twenty)"
   ]
  },
  {
   "cell_type": "code",
   "execution_count": 23,
   "metadata": {},
   "outputs": [
    {
     "name": "stdout",
     "output_type": "stream",
     "text": [
      "20% of purchases: 685202\n",
      "80% of purchases: 418252\n",
      "Ratio: 0.6209610912643391\n"
     ]
    }
   ],
   "source": [
    "print(f'20% of purchases: {sum_twenty}\\n80% of purchases: {max(my_array)-sum_twenty}\\nRatio: {sum_twenty/max(my_array)}')"
   ]
  }
 ],
 "metadata": {
  "kernelspec": {
   "display_name": "Python 3",
   "language": "python",
   "name": "python3"
  }
 },
 "nbformat": 4,
 "nbformat_minor": 4
}
