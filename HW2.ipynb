{
 "cells": [
  {
   "cell_type": "code",
   "execution_count": 3,
   "metadata": {},
   "outputs": [],
   "source": [
    "import pandas as pd"
   ]
  },
  {
   "cell_type": "code",
   "execution_count": null,
   "metadata": {},
   "outputs": [],
   "source": []
  },
  {
   "cell_type": "code",
   "execution_count": 4,
   "metadata": {},
   "outputs": [],
   "source": [
    "dataset = pd.read_csv('2019-Oct.csv', header='infer',\n",
    "                      parse_dates = ['event_time'],\n",
    "                      date_parser=pd.to_datetime,\n",
    "                     nrows=2000000)"
   ]
  },
  {
   "cell_type": "code",
   "execution_count": 37,
   "metadata": {},
   "outputs": [],
   "source": [
    "#dataset.info()"
   ]
  },
  {
   "cell_type": "code",
   "execution_count": null,
   "metadata": {},
   "outputs": [],
   "source": [
    "#for weekday, frame in dataset.groupby([dataset.event_time.dt.weekday]): #gruped by weekday 1-mond 2-tues\n",
    "#    print(f\"First entry for {weekday!r}\") #week of the day\n",
    "#    print(\"--------------\")\n",
    "#    print(frame.head(10).user_session) #first entry of gorup 'weekday'"
   ]
  },
  {
   "cell_type": "code",
   "execution_count": 11,
   "metadata": {},
   "outputs": [],
   "source": [
    "#for hour, frame in dataset.groupby([dataset.event_time.dt.hour]): #gruped by weekday 1-mond 2-tues\n",
    "#    print(f\"First entry for {hour!r}\") #week of the day\n",
    "#    print(\"--------------\")\n",
    "#    print(frame.head(1).brand) #first entry of gorup 'hour'"
   ]
  },
  {
   "cell_type": "markdown",
   "metadata": {},
   "source": [
    "#### view group by hours"
   ]
  },
  {
   "cell_type": "code",
   "execution_count": 9,
   "metadata": {},
   "outputs": [],
   "source": [
    "only_viewers = dataset[dataset.event_type == 'view']"
   ]
  },
  {
   "cell_type": "code",
   "execution_count": 15,
   "metadata": {},
   "outputs": [
    {
     "data": {
      "text/plain": [
       "event_time\n",
       "0      11041\n",
       "1      19194\n",
       "2      54695\n",
       "3      91131\n",
       "4     107248\n",
       "5     120084\n",
       "6     126745\n",
       "7     131621\n",
       "8     135308\n",
       "9     134053\n",
       "10    125516\n",
       "11    117807\n",
       "12    115758\n",
       "13    125776\n",
       "14     98326\n",
       "15     91425\n",
       "16     97348\n",
       "17     84483\n",
       "18     62442\n",
       "19     39819\n",
       "20     20512\n",
       "21     12807\n",
       "22      7349\n",
       "23      6198\n",
       "Name: event_time, dtype: int64"
      ]
     },
     "execution_count": 15,
     "metadata": {},
     "output_type": "execute_result"
    }
   ],
   "source": [
    "only_viewers.groupby([dataset.event_time.dt.hour]).event_time.count()"
   ]
  },
  {
   "cell_type": "markdown",
   "metadata": {},
   "source": [
    "#### view group by weekday"
   ]
  },
  {
   "cell_type": "code",
   "execution_count": 17,
   "metadata": {},
   "outputs": [
    {
     "data": {
      "text/plain": [
       "event_time\n",
       "1    1208280\n",
       "2     728406\n",
       "Name: event_time, dtype: int64"
      ]
     },
     "execution_count": 17,
     "metadata": {},
     "output_type": "execute_result"
    }
   ],
   "source": [
    "only_viewers.groupby([dataset.event_time.dt.weekday]).event_time.count()"
   ]
  },
  {
   "cell_type": "markdown",
   "metadata": {},
   "source": [
    "#### media visite by hour"
   ]
  },
  {
   "cell_type": "code",
   "execution_count": 20,
   "metadata": {},
   "outputs": [
    {
     "data": {
      "text/plain": [
       "80695.25"
      ]
     },
     "execution_count": 20,
     "metadata": {},
     "output_type": "execute_result"
    }
   ],
   "source": [
    "only_viewers.groupby([dataset.event_time.dt.hour]).event_time.count().mean()"
   ]
  },
  {
   "cell_type": "markdown",
   "metadata": {},
   "source": [
    "# Create a plot that for each day of the week show the hourly average of visitors your store has."
   ]
  },
  {
   "cell_type": "code",
   "execution_count": 36,
   "metadata": {},
   "outputs": [
    {
     "name": "stdout",
     "output_type": "stream",
     "text": [
      "Weekday: 1\n",
      "50345.0\n",
      "Weekday: 2\n",
      "48560.4\n"
     ]
    }
   ],
   "source": [
    "for wkday, frame in only_viewers.groupby([dataset.event_time.dt.weekday]):\n",
    "    print(f\"Weekday: {wkday!r}\")\n",
    "    print(frame.groupby([dataset.event_time.dt.hour]).event_time.count().mean())"
   ]
  },
  {
   "cell_type": "code",
   "execution_count": 26,
   "metadata": {},
   "outputs": [
    {
     "data": {
      "image/png": "[encoded data removed]",
      "text/plain": [
       "<Figure size 432x288 with 1 Axes>"
      ]
     },
     "metadata": {
      "needs_background": "light"
     },
     "output_type": "display_data"
    }
   ],
   "source": [
    "#plot of view grouped by weekday and hour\n",
    "only_viewers.groupby([dataset.event_time.dt.weekday, dataset.event_time.dt.hour]).event_time.count().plot();"
   ]
  },
  {
   "cell_type": "markdown",
   "metadata": {},
   "source": [
    "#### Number of times a product has been bought"
   ]
  },
  {
   "cell_type": "code",
   "execution_count": 39,
   "metadata": {},
   "outputs": [],
   "source": [
    "only_purchases = dataset[dataset.event_type == 'purchase']"
   ]
  },
  {
   "cell_type": "code",
   "execution_count": 52,
   "metadata": {},
   "outputs": [
    {
     "data": {
      "text/plain": [
       "product_id\n",
       "1001588      1\n",
       "1002062      3\n",
       "1002098      1\n",
       "1002099     11\n",
       "1002100      1\n",
       "            ..\n",
       "50600005     1\n",
       "50600023     1\n",
       "50600027     1\n",
       "50600052     2\n",
       "53600002     1\n",
       "Name: product_id, Length: 7195, dtype: int64"
      ]
     },
     "execution_count": 52,
     "metadata": {},
     "output_type": "execute_result"
    }
   ],
   "source": [
    "only_purchases.groupby([dataset.product_id]).product_id.count()"
   ]
  },
  {
   "cell_type": "markdown",
   "metadata": {},
   "source": [
    "#### Number of times a product has been viewed"
   ]
  },
  {
   "cell_type": "code",
   "execution_count": 50,
   "metadata": {},
   "outputs": [
    {
     "data": {
      "text/plain": [
       "product_id\n",
       "1001588      112\n",
       "1002042       58\n",
       "1002062       37\n",
       "1002098      238\n",
       "1002099     1410\n",
       "            ... \n",
       "53900014       2\n",
       "53900016       2\n",
       "53900017       2\n",
       "54100000       8\n",
       "54100001       9\n",
       "Name: product_id, Length: 81476, dtype: int64"
      ]
     },
     "execution_count": 50,
     "metadata": {},
     "output_type": "execute_result"
    }
   ],
   "source": [
    "only_viewers.groupby([dataset.product_id]).product_id.count()"
   ]
  },
  {
   "cell_type": "markdown",
   "metadata": {},
   "source": [
    "# Find the overall conversion rate of your store. "
   ]
  },
  {
   "cell_type": "code",
   "execution_count": 57,
   "metadata": {},
   "outputs": [],
   "source": [
    "num = only_purchases.groupby([dataset.product_id]).product_id.count().sum()"
   ]
  },
  {
   "cell_type": "code",
   "execution_count": 58,
   "metadata": {},
   "outputs": [],
   "source": [
    "denom = only_viewers.groupby([dataset.product_id]).product_id.count().sum()"
   ]
  },
  {
   "cell_type": "code",
   "execution_count": 62,
   "metadata": {},
   "outputs": [],
   "source": [
    "overall_conv_rate = num / denom"
   ]
  },
  {
   "cell_type": "code",
   "execution_count": 63,
   "metadata": {},
   "outputs": [
    {
     "name": "stdout",
     "output_type": "stream",
     "text": [
      "0.017492252228807355\n"
     ]
    }
   ],
   "source": [
    "print(overall_conv_rate)"
   ]
  },
  {
   "cell_type": "markdown",
   "metadata": {},
   "source": [
    "# Plot the number of purchases of each category and show the conversion rate of each category in decreasing order."
   ]
  },
  {
   "cell_type": "markdown",
   "metadata": {},
   "source": [
    "### Plot the number of purchases of each category "
   ]
  },
  {
   "cell_type": "code",
   "execution_count": 70,
   "metadata": {},
   "outputs": [
    {
     "data": {
      "image/png": "[encoded data removed]",
      "text/plain": [
       "<Figure size 432x288 with 1 Axes>"
      ]
     },
     "metadata": {
      "needs_background": "light"
     },
     "output_type": "display_data"
    }
   ],
   "source": [
    "only_purchases.groupby([dataset.category_id]).category_id.count().plot();"
   ]
  },
  {
   "cell_type": "markdown",
   "metadata": {},
   "source": [
    "### Show the conversion rate of each category in decreasing order "
   ]
  },
  {
   "cell_type": "code",
   "execution_count": 74,
   "metadata": {},
   "outputs": [
    {
     "name": "stdout",
     "output_type": "stream",
     "text": [
      "category_id: 2053013552226107603\n",
      "category_id: 2053013552259662037\n",
      "category_id: 2053013552293216471\n",
      "category_id: 2053013552326770905\n",
      "category_id: 2053013552351936731\n",
      "category_id: 2053013552385491165\n",
      "category_id: 2053013552427434207\n",
      "category_id: 2053013552469377249\n",
      "category_id: 2053013552502931683\n",
      "category_id: 2053013552570040549\n",
      "category_id: 2053013552603594983\n",
      "category_id: 2053013552637149417\n",
      "category_id: 2053013552662315243\n",
      "category_id: 2053013552695869677\n",
      "category_id: 2053013552737812719\n",
      "category_id: 2053013552788144369\n",
      "category_id: 2053013552821698803\n",
      "category_id: 2053013552863641845\n",
      "category_id: 2053013552888807671\n",
      "category_id: 2053013552913973497\n",
      "category_id: 2053013552955916539\n",
      "category_id: 2053013552989470973\n",
      "category_id: 2053013553031414015\n",
      "category_id: 2053013553056579841\n",
      "category_id: 2053013553090134275\n",
      "category_id: 2053013553115300101\n",
      "category_id: 2053013553140465927\n",
      "category_id: 2053013553165631753\n",
      "category_id: 2053013553199186187\n",
      "category_id: 2053013553224352013\n",
      "category_id: 2053013553257906447\n",
      "category_id: 2053013553283072273\n",
      "category_id: 2053013553316626707\n",
      "category_id: 2053013553341792533\n",
      "category_id: 2053013553375346967\n",
      "category_id: 2053013553459233053\n",
      "category_id: 2053013553484398879\n",
      "category_id: 2053013553526341921\n",
      "category_id: 2053013553559896355\n",
      "category_id: 2053013553853497655\n",
      "category_id: 2053013553887052089\n",
      "category_id: 2053013553912217915\n",
      "category_id: 2053013553945772349\n",
      "category_id: 2053013553970938175\n",
      "category_id: 2053013554004492609\n",
      "category_id: 2053013554071601477\n",
      "category_id: 2053013554096767303\n",
      "category_id: 2053013554121933129\n",
      "category_id: 2053013554155487563\n",
      "category_id: 2053013554189041997\n",
      "category_id: 2053013554222596431\n",
      "category_id: 2053013554247762257\n",
      "category_id: 2053013554415534427\n",
      "category_id: 2053013554449088861\n",
      "category_id: 2053013554474254687\n",
      "category_id: 2053013554499420513\n",
      "category_id: 2053013554524586339\n",
      "category_id: 2053013554566529381\n",
      "category_id: 2053013554591695207\n",
      "category_id: 2053013554625249641\n",
      "category_id: 2053013554658804075\n",
      "category_id: 2053013554692358509\n",
      "category_id: 2053013554725912943\n",
      "category_id: 2053013554751078769\n",
      "category_id: 2053013554776244595\n",
      "category_id: 2053013554834964853\n",
      "category_id: 2053013554960793975\n",
      "category_id: 2053013554994348409\n",
      "category_id: 2053013555036291451\n",
      "category_id: 2053013555069845885\n",
      "category_id: 2053013555095011711\n",
      "category_id: 2053013555120177537\n",
      "category_id: 2053013555178897795\n",
      "category_id: 2053013555220840837\n",
      "category_id: 2053013555262783879\n",
      "category_id: 2053013555287949705\n",
      "category_id: 2053013555321504139\n",
      "category_id: 2053013555355058573\n",
      "category_id: 2053013555380224399\n",
      "category_id: 2053013555413778833\n",
      "category_id: 2053013555438944659\n",
      "category_id: 2053013555464110485\n",
      "category_id: 2053013555531219353\n",
      "category_id: 2053013555573162395\n",
      "category_id: 2053013555631882655\n",
      "category_id: 2053013555657048481\n",
      "category_id: 2053013555690602915\n",
      "category_id: 2053013555724157349\n",
      "category_id: 2053013555782877609\n",
      "category_id: 2053013555816432043\n",
      "category_id: 2053013556110033341\n",
      "category_id: 2053013556168753601\n",
      "category_id: 2053013556202308035\n",
      "category_id: 2053013556227473861\n",
      "category_id: 2053013556252639687\n",
      "category_id: 2053013556277805513\n",
      "category_id: 2053013556311359947\n",
      "category_id: 2053013556344914381\n",
      "category_id: 2053013556403634639\n",
      "category_id: 2053013556437189073\n",
      "category_id: 2053013556462354899\n",
      "category_id: 2053013556487520725\n",
      "category_id: 2053013556521075159\n",
      "category_id: 2053013556546240985\n",
      "category_id: 2053013556579795419\n",
      "category_id: 2053013557024391671\n",
      "category_id: 2053013557066334713\n",
      "category_id: 2053013557099889147\n",
      "category_id: 2053013557133443581\n",
      "category_id: 2053013557166998015\n",
      "category_id: 2053013557192163841\n",
      "category_id: 2053013557225718275\n",
      "category_id: 2053013557343158789\n",
      "category_id: 2053013557385101831\n",
      "category_id: 2053013557418656265\n",
      "category_id: 2053013557452210699\n",
      "category_id: 2053013557477376525\n",
      "category_id: 2053013557510930959\n",
      "category_id: 2053013557544485393\n",
      "category_id: 2053013557569651219\n",
      "category_id: 2053013557603205653\n",
      "category_id: 2053013557645148695\n",
      "category_id: 2053013557670314521\n",
      "category_id: 2053013557695480347\n",
      "category_id: 2053013557737423389\n",
      "category_id: 2053013557787755041\n",
      "category_id: 2053013557930361385\n",
      "category_id: 2053013557955527211\n",
      "category_id: 2053013558005858861\n",
      "category_id: 2053013558031024687\n",
      "category_id: 2053013558072967729\n",
      "category_id: 2053013558098133555\n",
      "category_id: 2053013558131687989\n",
      "category_id: 2053013558156853815\n",
      "category_id: 2053013558190408249\n",
      "category_id: 2053013558223962683\n",
      "category_id: 2053013558249128509\n",
      "category_id: 2053013558282682943\n",
      "category_id: 2053013558316237377\n",
      "category_id: 2053013558349791811\n",
      "category_id: 2053013558391734853\n",
      "category_id: 2053013558433677895\n",
      "category_id: 2053013558458843721\n",
      "category_id: 2053013558492398155\n",
      "category_id: 2053013558525952589\n",
      "category_id: 2053013558559507023\n",
      "category_id: 2053013558593061457\n",
      "category_id: 2053013558618227283\n",
      "category_id: 2053013558643393109\n",
      "category_id: 2053013558668558935\n",
      "category_id: 2053013558727279193\n",
      "category_id: 2053013558752445019\n",
      "category_id: 2053013558785999453\n",
      "category_id: 2053013558802776671\n",
      "category_id: 2053013558836331105\n",
      "category_id: 2053013558861496931\n",
      "category_id: 2053013558895051365\n",
      "category_id: 2053013558920217191\n",
      "category_id: 2053013558945383017\n",
      "category_id: 2053013558978937451\n",
      "category_id: 2053013559071212141\n",
      "category_id: 2053013559104766575\n",
      "category_id: 2053013559138321009\n",
      "category_id: 2053013559222207091\n",
      "category_id: 2053013559255761525\n",
      "category_id: 2053013559289315959\n",
      "category_id: 2053013559322870393\n",
      "category_id: 2053013559348036219\n",
      "category_id: 2053013559406756479\n",
      "category_id: 2053013559440310913\n",
      "category_id: 2053013559473865347\n",
      "category_id: 2053013559515808389\n",
      "category_id: 2053013559641637517\n",
      "category_id: 2053013559675191951\n",
      "category_id: 2053013559708746385\n",
      "category_id: 2053013559733912211\n",
      "category_id: 2053013559767466645\n",
      "category_id: 2053013559792632471\n",
      "category_id: 2053013559842964121\n",
      "category_id: 2053013559868129947\n",
      "category_id: 2053013559901684381\n",
      "category_id: 2053013559935238815\n",
      "category_id: 2053013559960404641\n",
      "category_id: 2053013559985570467\n",
      "category_id: 2053013560010736293\n",
      "category_id: 2053013560035902119\n",
      "category_id: 2053013560061067945\n",
      "category_id: 2053013560086233771\n",
      "category_id: 2053013560111399597\n",
      "category_id: 2053013560144954031\n",
      "category_id: 2053013560178508465\n",
      "category_id: 2053013560220451507\n",
      "category_id: 2053013560287560373\n",
      "category_id: 2053013560312726199\n",
      "category_id: 2053013560346280633\n",
      "category_id: 2053013560413389501\n",
      "category_id: 2053013560463721151\n",
      "category_id: 2053013560497275585\n",
      "category_id: 2053013560530830019\n",
      "category_id: 2053013560555995845\n",
      "category_id: 2053013560581161671\n",
      "category_id: 2053013560623104713\n",
      "category_id: 2053013560807654091\n",
      "category_id: 2053013560841208525\n",
      "category_id: 2053013560866374351\n",
      "category_id: 2053013560899928785\n",
      "category_id: 2053013561059312345\n",
      "category_id: 2053013561092866779\n",
      "category_id: 2053013561126421213\n",
      "category_id: 2053013561159975647\n",
      "category_id: 2053013561185141473\n",
      "category_id: 2053013561218695907\n",
      "category_id: 2053013561243861733\n",
      "category_id: 2053013561277416167\n",
      "category_id: 2053013561302581993\n",
      "category_id: 2053013561327747819\n",
      "category_id: 2053013561352913645\n",
      "category_id: 2053013561420022511\n",
      "category_id: 2053013561453576945\n",
      "category_id: 2053013561529074421\n",
      "category_id: 2053013561554240247\n",
      "category_id: 2053013561579406073\n",
      "category_id: 2053013561604571899\n",
      "category_id: 2053013561638126333\n",
      "category_id: 2053013561663292159\n",
      "category_id: 2053013561696846593\n",
      "category_id: 2053013561747178243\n",
      "category_id: 2053013561780732677\n",
      "category_id: 2053013561814287111\n",
      "category_id: 2053013561847841545\n",
      "category_id: 2053013561914950413\n",
      "category_id: 2053013561956893455\n",
      "category_id: 2053013561982059281\n",
      "category_id: 2053013562082722579\n",
      "category_id: 2053013562116277013\n",
      "category_id: 2053013562149831447\n",
      "category_id: 2053013562183385881\n",
      "category_id: 2053013562208551707\n",
      "category_id: 2053013562250494749\n",
      "category_id: 2053013562292437791\n",
      "category_id: 2053013562325992225\n",
      "category_id: 2053013562359546659\n",
      "category_id: 2053013562393101093\n",
      "category_id: 2053013562451821351\n",
      "category_id: 2053013562560873263\n",
      "category_id: 2053013562611204913\n",
      "category_id: 2053013562644759347\n",
      "category_id: 2053013562753811257\n",
      "category_id: 2053013562778977083\n",
      "category_id: 2053013562812531517\n",
      "category_id: 2053013562837697343\n",
      "category_id: 2053013562871251777\n",
      "category_id: 2053013562913194819\n",
      "category_id: 2053013562946749253\n",
      "category_id: 2053013563097744201\n",
      "category_id: 2053013563139687243\n",
      "category_id: 2053013563173241677\n",
      "category_id: 2053013563215184719\n",
      "category_id: 2053013563248739153\n",
      "category_id: 2053013563273904979\n",
      "category_id: 2053013563307459413\n",
      "category_id: 2053013563332625239\n",
      "category_id: 2053013563366179673\n",
      "category_id: 2053013563391345499\n",
      "category_id: 2053013563424899933\n",
      "category_id: 2053013563450065759\n",
      "category_id: 2053013563483620193\n",
      "category_id: 2053013563517174627\n",
      "category_id: 2053013563550729061\n",
      "category_id: 2053013563584283495\n",
      "category_id: 2053013563651392361\n",
      "category_id: 2053013563693335403\n",
      "category_id: 2053013563718501229\n",
      "category_id: 2053013563743667055\n",
      "category_id: 2053013563768832881\n",
      "category_id: 2053013563810775923\n",
      "category_id: 2053013563835941749\n",
      "category_id: 2053013563877884791\n",
      "category_id: 2053013563911439225\n",
      "category_id: 2053013563944993659\n",
      "category_id: 2053013563970159485\n",
      "category_id: 2053013564003713919\n",
      "category_id: 2053013564154708873\n",
      "category_id: 2053013564523807647\n",
      "category_id: 2053013564557362081\n",
      "category_id: 2053013564599305123\n",
      "category_id: 2053013564641248165\n",
      "category_id: 2053013564674802599\n",
      "category_id: 2053013564699968425\n",
      "category_id: 2053013564741911467\n",
      "category_id: 2053013564918072245\n",
      "category_id: 2053013564968403895\n",
      "category_id: 2053013565069067197\n",
      "category_id: 2053013565127787455\n",
      "category_id: 2053013565152953281\n",
      "category_id: 2053013565194896323\n",
      "category_id: 2053013565228450757\n",
      "category_id: 2053013565253616583\n",
      "category_id: 2053013565329114057\n",
      "category_id: 2053013565362668491\n",
      "category_id: 2053013565413000141\n",
      "category_id: 2053013565446554575\n",
      "category_id: 2053013565480109009\n",
      "category_id: 2053013565505274835\n",
      "category_id: 2053013565589160919\n",
      "category_id: 2053013565639492569\n",
      "category_id: 2053013565681435611\n",
      "category_id: 2053013565706601437\n",
      "category_id: 2053013565748544479\n",
      "category_id: 2053013565782098913\n",
      "category_id: 2053013565824041955\n",
      "category_id: 2053013565857596389\n",
      "category_id: 2053013565882762215\n",
      "category_id: 2053013565916316649\n",
      "category_id: 2053013565941482475\n",
      "category_id: 2053013565983425517\n",
      "category_id: 2053013566033757167\n",
      "category_id: 2053013566067311601\n",
      "category_id: 2053013566100866035\n",
      "category_id: 2053013566142809077\n",
      "category_id: 2053013566176363511\n",
      "category_id: 2053013566209917945\n",
      "category_id: 2053013566243472379\n",
      "category_id: 2053013566277026813\n",
      "category_id: 2053013566310581247\n",
      "category_id: 2053013566344134657\n",
      "category_id: 2053013566377689091\n",
      "category_id: 2053013566411243525\n",
      "category_id: 2053013566453186567\n",
      "category_id: 2053013566478352393\n",
      "category_id: 2053013566537072653\n",
      "category_id: 2053013566562238479\n",
      "category_id: 2053013566587404305\n",
      "category_id: 2055156895844401457\n",
      "category_id: 2055156924273394455\n",
      "category_id: 2055156924315337497\n",
      "category_id: 2055156924407612189\n",
      "category_id: 2055156924466332447\n",
      "category_id: 2055909009252155819\n",
      "category_id: 2058719829233238746\n",
      "category_id: 2059484387635888645\n",
      "category_id: 2059484599339188409\n",
      "category_id: 2059484599372742843\n",
      "category_id: 2059484599414685885\n",
      "category_id: 2059484599456628927\n",
      "category_id: 2059484601444729123\n",
      "category_id: 2059484601981600061\n",
      "category_id: 2059484602015154495\n",
      "category_id: 2059484602216481097\n",
      "category_id: 2060237588744111062\n",
      "category_id: 2060237591176806498\n",
      "category_id: 2060981320481243178\n",
      "category_id: 2060981320514797612\n",
      "category_id: 2060981320548352046\n",
      "category_id: 2060981320581906480\n",
      "category_id: 2061717937420501730\n",
      "category_id: 2061717948367634684\n",
      "category_id: 2061717948468297988\n",
      "category_id: 2061717948493463814\n",
      "category_id: 2062461754293617058\n",
      "category_id: 2069241407767315312\n",
      "category_id: 2069241409453425602\n",
      "category_id: 2070004998778912979\n",
      "category_id: 2070005009172398851\n",
      "category_id: 2070005009256284935\n",
      "category_id: 2070005009382114061\n",
      "category_id: 2070747671722722162\n",
      "category_id: 2070747673266226092\n",
      "category_id: 2070747673358500784\n",
      "category_id: 2070747685681365440\n",
      "category_id: 2071489994601529806\n",
      "category_id: 2071489994693804498\n",
      "category_id: 2071490004441367490\n",
      "category_id: 2074462942123786261\n",
      "category_id: 2075210504652981138\n",
      "category_id: 2075210506532029436\n",
      "category_id: 2075210506573972478\n",
      "category_id: 2075962323838697472\n",
      "category_id: 2075962341706433246\n",
      "category_id: 2075962341748376288\n",
      "category_id: 2075962341790319330\n",
      "category_id: 2076715358323998979\n",
      "category_id: 2076715364204413467\n",
      "category_id: 2076715364237967901\n",
      "category_id: 2076715364279910943\n",
      "category_id: 2077453854185620383\n",
      "category_id: 2078957452602114300\n",
      "category_id: 2078957452635668734\n",
      "category_id: 2078957452669223168\n",
      "category_id: 2078957461921858354\n",
      "category_id: 2078957461947024180\n",
      "category_id: 2079713971606127501\n",
      "category_id: 2079713978300236035\n",
      "category_id: 2079713982830084515\n",
      "category_id: 2079713983761220055\n",
      "category_id: 2080463777567867259\n",
      "category_id: 2080463777718862211\n",
      "category_id: 2082717806897398246\n",
      "category_id: 2084217994270999025\n",
      "category_id: 2084218014168776941\n",
      "category_id: 2084962291626803333\n",
      "category_id: 2084962304016777941\n",
      "category_id: 2085718636156158307\n",
      "category_id: 2086471225382536008\n",
      "category_id: 2086471239416676686\n",
      "category_id: 2086471240800797129\n",
      "category_id: 2086471240842740173\n",
      "category_id: 2088750507198775704\n",
      "category_id: 2089490106086851034\n",
      "category_id: 2089490116119625748\n",
      "category_id: 2090228401527849663\n",
      "category_id: 2090228413380952337\n",
      "category_id: 2090228413959766319\n",
      "category_id: 2090971675423146874\n",
      "category_id: 2090971680431145002\n",
      "category_id: 2090971680481476652\n",
      "category_id: 2090971680783466556\n",
      "category_id: 2090971685539807320\n",
      "category_id: 2090971686529663114\n",
      "category_id: 2091727629378912491\n",
      "category_id: 2094006184079000416\n",
      "category_id: 2094006249627582860\n",
      "category_id: 2095518906859913319\n",
      "category_id: 2095518921321874323\n",
      "category_id: 2095518921355428757\n",
      "category_id: 2096280510920655375\n",
      "category_id: 2096280538292683405\n",
      "category_id: 2096280601366626625\n",
      "category_id: 2097815753423061045\n",
      "category_id: 2098563440799908223\n",
      "category_id: 2098563448148329133\n",
      "category_id: 2098563450757186313\n",
      "category_id: 2098563460336976001\n",
      "category_id: 2099306010899383229\n",
      "category_id: 2100064855133258156\n",
      "category_id: 2100064858975240628\n",
      "category_id: 2100065069009208002\n",
      "category_id: 2100065069302809284\n",
      "category_id: 2100065080828756704\n",
      "category_id: 2100825583029060150\n",
      "category_id: 2102305967893905931\n",
      "category_id: 2102307650380235197\n",
      "category_id: 2103807459595387724\n",
      "category_id: 2104564977229628393\n",
      "category_id: 2105319817211805903\n",
      "category_id: 2105319819401232597\n",
      "category_id: 2106075662325383725\n",
      "category_id: 2106075695351333719\n",
      "category_id: 2106075725441269865\n",
      "category_id: 2106830258215846573\n",
      "category_id: 2109094148110811752\n",
      "category_id: 2109094161893294334\n",
      "category_id: 2110187392055903187\n",
      "category_id: 2110187395394568257\n",
      "category_id: 2110187395688169553\n",
      "category_id: 2110187395721723987\n",
      "category_id: 2110187395755278421\n",
      "category_id: 2110187395788832855\n",
      "category_id: 2110937143172923797\n",
      "category_id: 2110937189033444097\n",
      "category_id: 2110937189394154243\n",
      "category_id: 2110937217663763331\n",
      "category_id: 2110937218225800069\n",
      "category_id: 2110937219005940617\n",
      "category_id: 2110937219442148235\n",
      "category_id: 2110937221648352149\n",
      "category_id: 2112418071384687332\n",
      "category_id: 2113934850560885372\n",
      "category_id: 2116907504691576833\n",
      "category_id: 2116907507795361987\n",
      "category_id: 2116907507954745551\n",
      "category_id: 2116907518801216297\n",
      "category_id: 2116907519078040377\n",
      "category_id: 2116907524262199379\n",
      "category_id: 2116907524295753813\n",
      "category_id: 2116907524337696855\n",
      "category_id: 2116907524379639897\n",
      "category_id: 2116907524488691805\n",
      "category_id: 2116907524530634847\n",
      "category_id: 2116907524572577889\n",
      "category_id: 2116907525143003265\n",
      "category_id: 2116907525176557699\n",
      "category_id: 2116907525201723525\n",
      "category_id: 2116907525235277959\n",
      "category_id: 2119910569631810087\n",
      "category_id: 2124430574616576362\n",
      "category_id: 2125175529001713727\n",
      "category_id: 2125175570022007765\n",
      "category_id: 2125931803410694331\n",
      "category_id: 2126679652444405974\n",
      "category_id: 2126679654801604876\n",
      "category_id: 2127424806855902066\n",
      "category_id: 2127424820051182462\n",
      "category_id: 2127425270821421370\n",
      "category_id: 2127425375913902544\n",
      "category_id: 2127425430859285014\n",
      "category_id: 2127425432411177496\n",
      "category_id: 2127425434894205468\n",
      "category_id: 2127425436764865054\n",
      "category_id: 2127425438190928416\n",
      "category_id: 2127425439776375330\n",
      "category_id: 2127425440925614628\n",
      "category_id: 2134904816839688395\n",
      "category_id: 2134904835026190593\n",
      "category_id: 2134905019189691101\n"
     ]
    },
    {
     "name": "stdout",
     "output_type": "stream",
     "text": [
      "category_id: 2134905035589419799\n",
      "category_id: 2134905039313961849\n",
      "category_id: 2134905041696326587\n",
      "category_id: 2134905044766557181\n",
      "category_id: 2134905044833666047\n",
      "category_id: 2134905045102100487\n",
      "category_id: 2134905045177597961\n",
      "category_id: 2134905045253095435\n",
      "category_id: 2134905045328592909\n",
      "category_id: 2134905045613805589\n",
      "category_id: 2135658359968236364\n",
      "category_id: 2135658542101693154\n",
      "category_id: 2135658542386905834\n",
      "category_id: 2135658542781170420\n",
      "category_id: 2135658543242543872\n",
      "category_id: 2135658545893344074\n",
      "category_id: 2136389353511846005\n",
      "category_id: 2136389354015162499\n",
      "category_id: 2136935916512478049\n",
      "category_id: 2137134549706998477\n",
      "category_id: 2137704922018218396\n",
      "category_id: 2138568472580325973\n",
      "category_id: 2139150089359196199\n",
      "category_id: 2141229835995840847\n",
      "category_id: 2141355031935321056\n",
      "category_id: 2141355067922449282\n",
      "category_id: 2141478391264576072\n",
      "category_id: 2141478391348462154\n",
      "category_id: 2142171269733286244\n",
      "category_id: 2144356630513320518\n",
      "category_id: 2144916515806248980\n",
      "category_id: 2145153815500816706\n",
      "category_id: 2145727399348666855\n",
      "category_id: 2145727399449330153\n",
      "category_id: 2145727399558382059\n",
      "category_id: 2146551844904632788\n",
      "category_id: 2146660886926852416\n",
      "category_id: 2146660887002349890\n",
      "category_id: 2146660887094624580\n",
      "category_id: 2146660887346282824\n",
      "category_id: 2152167773222993940\n",
      "category_id: 2164367422893589471\n",
      "category_id: 2165087460176953468\n",
      "category_id: 2172371118332051820\n",
      "category_id: 2172371122509578610\n",
      "category_id: 2172371436436455782\n",
      "category_id: 2175419595093967522\n"
     ]
    }
   ],
   "source": [
    "for category, frame in dataset.groupby([dataset.category_id]):\n",
    "    print(f\"category_id: {category!r}\")\n",
    "    #num = frame[dataset.event_type == 'purchase'].event_type.count().sum()\n",
    "    #denom = frame[dataset.event_type == 'view'].event_type.count().sum()\n",
    "    #conv_rate = num / denom\n",
    "    #print(conv_rate)\n",
    "    "
   ]
  },
  {
   "cell_type": "code",
   "execution_count": null,
   "metadata": {},
   "outputs": [],
   "source": []
  }
 ],
 "metadata": {
  "kernelspec": {
   "display_name": "Python 3",
   "language": "python",
   "name": "python3"
  },
  "language_info": {
   "codemirror_mode": {
    "name": "ipython",
    "version": 3
   },
   "file_extension": ".py",
   "mimetype": "text/x-python",
   "name": "python",
   "nbconvert_exporter": "python",
   "pygments_lexer": "ipython3",
   "version": "3.7.6"
  }
 },
 "nbformat": 4,
 "nbformat_minor": 4
}
