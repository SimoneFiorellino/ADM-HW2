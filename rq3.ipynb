{
 "cells": [
  {
   "cell_type": "markdown",
   "metadata": {},
   "source": [
    "# rq3 #"
   ]
  },
  {
   "cell_type": "code",
   "execution_count": 1,
   "metadata": {},
   "outputs": [],
   "source": [
    "import pandas as pd\n",
    "dataset_oct=pd.read_csv(\"2019-Oct.csv\", header=\"infer\", parse_dates=[\"event_time\"],date_parser=pd.to_datetime,nrows=100000)"
   ]
  },
  {
   "cell_type": "code",
   "execution_count": 2,
   "metadata": {},
   "outputs": [],
   "source": [
    "import pandas as pd\n",
    "dataset_nov=pd.read_csv(\"/Users/eugeniobaldo/Desktop/2019-Nov.csv\", header=\"infer\", parse_dates=[\"event_time\"],date_parser=pd.to_datetime, nrows=100000)"
   ]
  },
  {
   "cell_type": "code",
   "execution_count": 3,
   "metadata": {},
   "outputs": [],
   "source": [
    "import functions as mod\n"
   ]
  },
  {
   "cell_type": "markdown",
   "metadata": {},
   "source": [
    "* in the following two cells is applied a function which adds the category to the dataset. As category is considered the first world (for example computers.notebooks has computers as category). As subcategory, instead ,it has been considered the category_code (for example computers.notebooks is the subcategory)."
   ]
  },
  {
   "cell_type": "code",
   "execution_count": 6,
   "metadata": {},
   "outputs": [
    {
     "data": {
      "text/html": [
       "<div>\n",
       "<style scoped>\n",
       "    .dataframe tbody tr th:only-of-type {\n",
       "        vertical-align: middle;\n",
       "    }\n",
       "\n",
       "    .dataframe tbody tr th {\n",
       "        vertical-align: top;\n",
       "    }\n",
       "\n",
       "    .dataframe thead th {\n",
       "        text-align: right;\n",
       "    }\n",
       "</style>\n",
       "<table border=\"1\" class=\"dataframe\">\n",
       "  <thead>\n",
       "    <tr style=\"text-align: right;\">\n",
       "      <th></th>\n",
       "      <th>event_time</th>\n",
       "      <th>event_type</th>\n",
       "      <th>product_id</th>\n",
       "      <th>category_id</th>\n",
       "      <th>category_code</th>\n",
       "      <th>brand</th>\n",
       "      <th>price</th>\n",
       "      <th>user_id</th>\n",
       "      <th>user_session</th>\n",
       "      <th>main_category</th>\n",
       "    </tr>\n",
       "  </thead>\n",
       "  <tbody>\n",
       "    <tr>\n",
       "      <td>1</td>\n",
       "      <td>2019-10-01 00:00:00+00:00</td>\n",
       "      <td>view</td>\n",
       "      <td>3900821</td>\n",
       "      <td>2053013552326770905</td>\n",
       "      <td>appliances.environment.water_heater</td>\n",
       "      <td>aqua</td>\n",
       "      <td>33.20</td>\n",
       "      <td>554748717</td>\n",
       "      <td>9333dfbd-b87a-4708-9857-6336556b0fcc</td>\n",
       "      <td>appliances</td>\n",
       "    </tr>\n",
       "    <tr>\n",
       "      <td>2</td>\n",
       "      <td>2019-10-01 00:00:01+00:00</td>\n",
       "      <td>view</td>\n",
       "      <td>17200506</td>\n",
       "      <td>2053013559792632471</td>\n",
       "      <td>furniture.living_room.sofa</td>\n",
       "      <td>NaN</td>\n",
       "      <td>543.10</td>\n",
       "      <td>519107250</td>\n",
       "      <td>566511c2-e2e3-422b-b695-cf8e6e792ca8</td>\n",
       "      <td>furniture</td>\n",
       "    </tr>\n",
       "    <tr>\n",
       "      <td>3</td>\n",
       "      <td>2019-10-01 00:00:01+00:00</td>\n",
       "      <td>view</td>\n",
       "      <td>1307067</td>\n",
       "      <td>2053013558920217191</td>\n",
       "      <td>computers.notebook</td>\n",
       "      <td>lenovo</td>\n",
       "      <td>251.74</td>\n",
       "      <td>550050854</td>\n",
       "      <td>7c90fc70-0e80-4590-96f3-13c02c18c713</td>\n",
       "      <td>computers</td>\n",
       "    </tr>\n",
       "    <tr>\n",
       "      <td>4</td>\n",
       "      <td>2019-10-01 00:00:04+00:00</td>\n",
       "      <td>view</td>\n",
       "      <td>1004237</td>\n",
       "      <td>2053013555631882655</td>\n",
       "      <td>electronics.smartphone</td>\n",
       "      <td>apple</td>\n",
       "      <td>1081.98</td>\n",
       "      <td>535871217</td>\n",
       "      <td>c6bd7419-2748-4c56-95b4-8cec9ff8b80d</td>\n",
       "      <td>electronics</td>\n",
       "    </tr>\n",
       "    <tr>\n",
       "      <td>5</td>\n",
       "      <td>2019-10-01 00:00:05+00:00</td>\n",
       "      <td>view</td>\n",
       "      <td>1480613</td>\n",
       "      <td>2053013561092866779</td>\n",
       "      <td>computers.desktop</td>\n",
       "      <td>pulser</td>\n",
       "      <td>908.62</td>\n",
       "      <td>512742880</td>\n",
       "      <td>0d0d91c2-c9c2-4e81-90a5-86594dec0db9</td>\n",
       "      <td>computers</td>\n",
       "    </tr>\n",
       "  </tbody>\n",
       "</table>\n",
       "</div>"
      ],
      "text/plain": [
       "                 event_time event_type  product_id          category_id  \\\n",
       "1 2019-10-01 00:00:00+00:00       view     3900821  2053013552326770905   \n",
       "2 2019-10-01 00:00:01+00:00       view    17200506  2053013559792632471   \n",
       "3 2019-10-01 00:00:01+00:00       view     1307067  2053013558920217191   \n",
       "4 2019-10-01 00:00:04+00:00       view     1004237  2053013555631882655   \n",
       "5 2019-10-01 00:00:05+00:00       view     1480613  2053013561092866779   \n",
       "\n",
       "                         category_code   brand    price    user_id  \\\n",
       "1  appliances.environment.water_heater    aqua    33.20  554748717   \n",
       "2           furniture.living_room.sofa     NaN   543.10  519107250   \n",
       "3                   computers.notebook  lenovo   251.74  550050854   \n",
       "4               electronics.smartphone   apple  1081.98  535871217   \n",
       "5                    computers.desktop  pulser   908.62  512742880   \n",
       "\n",
       "                           user_session main_category  \n",
       "1  9333dfbd-b87a-4708-9857-6336556b0fcc    appliances  \n",
       "2  566511c2-e2e3-422b-b695-cf8e6e792ca8     furniture  \n",
       "3  7c90fc70-0e80-4590-96f3-13c02c18c713     computers  \n",
       "4  c6bd7419-2748-4c56-95b4-8cec9ff8b80d   electronics  \n",
       "5  0d0d91c2-c9c2-4e81-90a5-86594dec0db9     computers  "
      ]
     },
     "execution_count": 6,
     "metadata": {},
     "output_type": "execute_result"
    }
   ],
   "source": [
    "dataset_oct=mod.add_category(dataset_oct)\n",
    "dataset_oct.head()"
   ]
  },
  {
   "cell_type": "code",
   "execution_count": 8,
   "metadata": {},
   "outputs": [],
   "source": [
    "dataset_nov=mod.add_category(dataset_nov)"
   ]
  },
  {
   "cell_type": "markdown",
   "metadata": {},
   "source": [
    "**For each category, what’s the brand whose prices are higher on average? Write a function that asks the user a category in input and returns a plot indicating the average price of the products sold by the brand.**"
   ]
  },
  {
   "cell_type": "markdown",
   "metadata": {},
   "source": [
    "* in the following analysis, the aim is to give a picture of average brand prices for brands belonging to a specific category "
   ]
  },
  {
   "cell_type": "markdown",
   "metadata": {},
   "source": [
    "* in the following graphs are shown only the top 50 brands with the higher average price, due to the fact that using the entire dataset, the number of brands is high in a measure that it is not possibile to give a clear graphical representation."
   ]
  },
  {
   "cell_type": "markdown",
   "metadata": {},
   "source": [
    "**october**"
   ]
  },
  {
   "cell_type": "code",
   "execution_count": 7,
   "metadata": {},
   "outputs": [
    {
     "name": "stdout",
     "output_type": "stream",
     "text": [
      "computers\n"
     ]
    },
    {
     "data": {
      "text/plain": [
       "<Figure size 432x288 with 0 Axes>"
      ]
     },
     "metadata": {},
     "output_type": "display_data"
    },
    {
     "data": {
      "image/png": "[encoded data removed]",
      "text/plain": [
       "<Figure size 1152x720 with 1 Axes>"
      ]
     },
     "metadata": {
      "needs_background": "light"
     },
     "output_type": "display_data"
    }
   ],
   "source": [
    "category_input=input().lower()\n",
    "result_october=mod.average_price(category_input, dataset_oct)\n",
    "result_october=result_october.sort_values(by=[\"price\"], ascending=False)\n",
    "result_october_first50=result_october.head(50)\n",
    "import matplotlib.pyplot as plt\n",
    "plt.figure()\n",
    "result_october_first50.plot.barh(figsize=(16,10),color=\"lightblue\" ,title=\"average price for category of different brands in october 2019\")\n",
    "plt.show()"
   ]
  },
  {
   "cell_type": "markdown",
   "metadata": {},
   "source": [
    "**november**"
   ]
  },
  {
   "cell_type": "code",
   "execution_count": 11,
   "metadata": {},
   "outputs": [
    {
     "name": "stdout",
     "output_type": "stream",
     "text": [
      "computers\n"
     ]
    },
    {
     "data": {
      "text/plain": [
       "<Figure size 432x288 with 0 Axes>"
      ]
     },
     "metadata": {},
     "output_type": "display_data"
    },
    {
     "data": {
      "image/png": "[encoded data removed]",
      "text/plain": [
       "<Figure size 1152x720 with 1 Axes>"
      ]
     },
     "metadata": {
      "needs_background": "light"
     },
     "output_type": "display_data"
    }
   ],
   "source": [
    "category_input=input().lower()\n",
    "result_november=mod.average_price(category_input, dataset_nov)\n",
    "result_november=result_november.sort_values(by=[\"price\"], ascending=False)\n",
    "result_november_first50=result_november.head(50)\n",
    "import matplotlib.pyplot as plt\n",
    "plt.figure()\n",
    "result_november_first50.plot.barh(figsize=(16,10),color=\"lightblue\" ,title=\"average price for category of different brands in november 2019\")\n",
    "plt.show()"
   ]
  },
  {
   "cell_type": "markdown",
   "metadata": {},
   "source": [
    "**Find, for each category, the brand with the highest average price. Return all the results in ascending order by price.**"
   ]
  },
  {
   "cell_type": "markdown",
   "metadata": {},
   "source": [
    "**october**"
   ]
  },
  {
   "cell_type": "code",
   "execution_count": 19,
   "metadata": {},
   "outputs": [
    {
     "data": {
      "text/html": [
       "<div>\n",
       "<style scoped>\n",
       "    .dataframe tbody tr th:only-of-type {\n",
       "        vertical-align: middle;\n",
       "    }\n",
       "\n",
       "    .dataframe tbody tr th {\n",
       "        vertical-align: top;\n",
       "    }\n",
       "\n",
       "    .dataframe thead th {\n",
       "        text-align: right;\n",
       "    }\n",
       "</style>\n",
       "<table border=\"1\" class=\"dataframe\">\n",
       "  <thead>\n",
       "    <tr style=\"text-align: right;\">\n",
       "      <th></th>\n",
       "      <th>category</th>\n",
       "      <th>brand</th>\n",
       "      <th>average_price</th>\n",
       "    </tr>\n",
       "  </thead>\n",
       "  <tbody>\n",
       "    <tr>\n",
       "      <td>0</td>\n",
       "      <td>stationery</td>\n",
       "      <td>hp</td>\n",
       "      <td>54.800000</td>\n",
       "    </tr>\n",
       "    <tr>\n",
       "      <td>1</td>\n",
       "      <td>medicine</td>\n",
       "      <td>omron</td>\n",
       "      <td>55.576250</td>\n",
       "    </tr>\n",
       "    <tr>\n",
       "      <td>2</td>\n",
       "      <td>accessories</td>\n",
       "      <td>coccinelle</td>\n",
       "      <td>222.910000</td>\n",
       "    </tr>\n",
       "    <tr>\n",
       "      <td>3</td>\n",
       "      <td>apparel</td>\n",
       "      <td>weekend</td>\n",
       "      <td>284.435000</td>\n",
       "    </tr>\n",
       "    <tr>\n",
       "      <td>4</td>\n",
       "      <td>auto</td>\n",
       "      <td>farcar</td>\n",
       "      <td>436.305000</td>\n",
       "    </tr>\n",
       "    <tr>\n",
       "      <td>5</td>\n",
       "      <td>country_yard</td>\n",
       "      <td>viking</td>\n",
       "      <td>633.865000</td>\n",
       "    </tr>\n",
       "    <tr>\n",
       "      <td>6</td>\n",
       "      <td>furniture</td>\n",
       "      <td>divalux</td>\n",
       "      <td>888.050000</td>\n",
       "    </tr>\n",
       "    <tr>\n",
       "      <td>7</td>\n",
       "      <td>construction</td>\n",
       "      <td>grohe</td>\n",
       "      <td>1332.550000</td>\n",
       "    </tr>\n",
       "    <tr>\n",
       "      <td>8</td>\n",
       "      <td>appliances</td>\n",
       "      <td>mdv</td>\n",
       "      <td>1644.800000</td>\n",
       "    </tr>\n",
       "    <tr>\n",
       "      <td>9</td>\n",
       "      <td>computers</td>\n",
       "      <td>apple</td>\n",
       "      <td>1660.409750</td>\n",
       "    </tr>\n",
       "    <tr>\n",
       "      <td>10</td>\n",
       "      <td>electronics</td>\n",
       "      <td>rado</td>\n",
       "      <td>2053.534444</td>\n",
       "    </tr>\n",
       "    <tr>\n",
       "      <td>11</td>\n",
       "      <td>kids</td>\n",
       "      <td>minimotors</td>\n",
       "      <td>2142.140000</td>\n",
       "    </tr>\n",
       "    <tr>\n",
       "      <td>12</td>\n",
       "      <td>sport</td>\n",
       "      <td>scott</td>\n",
       "      <td>2391.310000</td>\n",
       "    </tr>\n",
       "  </tbody>\n",
       "</table>\n",
       "</div>"
      ],
      "text/plain": [
       "        category       brand  average_price\n",
       "0     stationery          hp      54.800000\n",
       "1       medicine       omron      55.576250\n",
       "2    accessories  coccinelle     222.910000\n",
       "3        apparel     weekend     284.435000\n",
       "4           auto      farcar     436.305000\n",
       "5   country_yard      viking     633.865000\n",
       "6      furniture     divalux     888.050000\n",
       "7   construction       grohe    1332.550000\n",
       "8     appliances         mdv    1644.800000\n",
       "9      computers       apple    1660.409750\n",
       "10   electronics        rado    2053.534444\n",
       "11          kids  minimotors    2142.140000\n",
       "12         sport       scott    2391.310000"
      ]
     },
     "execution_count": 19,
     "metadata": {},
     "output_type": "execute_result"
    }
   ],
   "source": [
    "categories=dataset_oct[\"main_category\"].unique()\n",
    "mod.most_expensive_brands(categories, dataset_oct)"
   ]
  },
  {
   "cell_type": "markdown",
   "metadata": {},
   "source": [
    "**november**"
   ]
  },
  {
   "cell_type": "code",
   "execution_count": 20,
   "metadata": {},
   "outputs": [
    {
     "data": {
      "text/html": [
       "<div>\n",
       "<style scoped>\n",
       "    .dataframe tbody tr th:only-of-type {\n",
       "        vertical-align: middle;\n",
       "    }\n",
       "\n",
       "    .dataframe tbody tr th {\n",
       "        vertical-align: top;\n",
       "    }\n",
       "\n",
       "    .dataframe thead th {\n",
       "        text-align: right;\n",
       "    }\n",
       "</style>\n",
       "<table border=\"1\" class=\"dataframe\">\n",
       "  <thead>\n",
       "    <tr style=\"text-align: right;\">\n",
       "      <th></th>\n",
       "      <th>category</th>\n",
       "      <th>brand</th>\n",
       "      <th>average_price</th>\n",
       "    </tr>\n",
       "  </thead>\n",
       "  <tbody>\n",
       "    <tr>\n",
       "      <td>0</td>\n",
       "      <td>stationery</td>\n",
       "      <td>samsung</td>\n",
       "      <td>53.030000</td>\n",
       "    </tr>\n",
       "    <tr>\n",
       "      <td>1</td>\n",
       "      <td>medicine</td>\n",
       "      <td>omron</td>\n",
       "      <td>55.867143</td>\n",
       "    </tr>\n",
       "    <tr>\n",
       "      <td>2</td>\n",
       "      <td>accessories</td>\n",
       "      <td>coccinelle</td>\n",
       "      <td>345.700000</td>\n",
       "    </tr>\n",
       "    <tr>\n",
       "      <td>3</td>\n",
       "      <td>country_yard</td>\n",
       "      <td>hyundai</td>\n",
       "      <td>442.740000</td>\n",
       "    </tr>\n",
       "    <tr>\n",
       "      <td>4</td>\n",
       "      <td>apparel</td>\n",
       "      <td>weekend</td>\n",
       "      <td>561.514286</td>\n",
       "    </tr>\n",
       "    <tr>\n",
       "      <td>5</td>\n",
       "      <td>construction</td>\n",
       "      <td>festool</td>\n",
       "      <td>1047.535000</td>\n",
       "    </tr>\n",
       "    <tr>\n",
       "      <td>6</td>\n",
       "      <td>furniture</td>\n",
       "      <td>laufen</td>\n",
       "      <td>1301.490000</td>\n",
       "    </tr>\n",
       "    <tr>\n",
       "      <td>7</td>\n",
       "      <td>computers</td>\n",
       "      <td>apple</td>\n",
       "      <td>1551.069706</td>\n",
       "    </tr>\n",
       "    <tr>\n",
       "      <td>8</td>\n",
       "      <td>auto</td>\n",
       "      <td>schneider</td>\n",
       "      <td>2165.760000</td>\n",
       "    </tr>\n",
       "    <tr>\n",
       "      <td>9</td>\n",
       "      <td>kids</td>\n",
       "      <td>minimotors</td>\n",
       "      <td>2212.410000</td>\n",
       "    </tr>\n",
       "    <tr>\n",
       "      <td>10</td>\n",
       "      <td>appliances</td>\n",
       "      <td>jura</td>\n",
       "      <td>2542.480000</td>\n",
       "    </tr>\n",
       "    <tr>\n",
       "      <td>11</td>\n",
       "      <td>electronics</td>\n",
       "      <td>nikon</td>\n",
       "      <td>2559.270000</td>\n",
       "    </tr>\n",
       "    <tr>\n",
       "      <td>12</td>\n",
       "      <td>sport</td>\n",
       "      <td>pinarello</td>\n",
       "      <td>2573.810000</td>\n",
       "    </tr>\n",
       "  </tbody>\n",
       "</table>\n",
       "</div>"
      ],
      "text/plain": [
       "        category       brand  average_price\n",
       "0     stationery     samsung      53.030000\n",
       "1       medicine       omron      55.867143\n",
       "2    accessories  coccinelle     345.700000\n",
       "3   country_yard     hyundai     442.740000\n",
       "4        apparel     weekend     561.514286\n",
       "5   construction     festool    1047.535000\n",
       "6      furniture      laufen    1301.490000\n",
       "7      computers       apple    1551.069706\n",
       "8           auto   schneider    2165.760000\n",
       "9           kids  minimotors    2212.410000\n",
       "10    appliances        jura    2542.480000\n",
       "11   electronics       nikon    2559.270000\n",
       "12         sport   pinarello    2573.810000"
      ]
     },
     "execution_count": 20,
     "metadata": {},
     "output_type": "execute_result"
    }
   ],
   "source": [
    "categories1=dataset_nov[\"main_category\"].unique()\n",
    "mod.most_expensive_brands(categories1, dataset_nov)"
   ]
  }
 ],
 "metadata": {
  "kernelspec": {
   "display_name": "Python 3",
   "language": "python",
   "name": "python3"
  },
  "language_info": {
   "codemirror_mode": {
    "name": "ipython",
    "version": 3
   },
   "file_extension": ".py",
   "mimetype": "text/x-python",
   "name": "python",
   "nbconvert_exporter": "python",
   "pygments_lexer": "ipython3",
   "version": "3.7.4"
  }
 },
 "nbformat": 4,
 "nbformat_minor": 2
}
