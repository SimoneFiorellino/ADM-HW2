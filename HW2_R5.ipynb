{
 "cells": [
  {
   "cell_type": "markdown",
   "metadata": {},
   "source": [
    "# [RQ5] In what part of the day is your store most visited? Knowing which days of the week or even which hours of the day shoppers are likely to visit your online store and make a purchase may help you improve your strategies. Create a plot that for each day of the week show the hourly average of visitors your store has."
   ]
  },
  {
   "cell_type": "code",
   "execution_count": 2,
   "metadata": {},
   "outputs": [],
   "source": [
    "import pandas as pd\n",
    "import numpy as np\n",
    "import matplotlib.pyplot as plt"
   ]
  },
  {
   "cell_type": "code",
   "execution_count": 3,
   "metadata": {},
   "outputs": [],
   "source": [
    "dataset = pd.read_csv('2019-Oct.csv', header='infer',\n",
    "                      parse_dates = ['event_time'],\n",
    "                      date_parser=pd.to_datetime,\n",
    "                     nrows=2000000)"
   ]
  },
  {
   "cell_type": "code",
   "execution_count": 4,
   "metadata": {},
   "outputs": [],
   "source": [
    "dataset_02 = pd.read_csv('2019-Nov.csv', header='infer',\n",
    "                      parse_dates = ['event_time'],\n",
    "                      date_parser=pd.to_datetime,\n",
    "                     nrows=2000000)"
   ]
  },
  {
   "cell_type": "code",
   "execution_count": 5,
   "metadata": {},
   "outputs": [],
   "source": [
    "frames = [dataset, dataset_02]"
   ]
  },
  {
   "cell_type": "code",
   "execution_count": 6,
   "metadata": {},
   "outputs": [],
   "source": [
    "all_dataset = pd.concat(frames)"
   ]
  },
  {
   "cell_type": "markdown",
   "metadata": {},
   "source": [
    "#### In what part of the day is your store most visited? "
   ]
  },
  {
   "cell_type": "code",
   "execution_count": 7,
   "metadata": {},
   "outputs": [],
   "source": [
    "dataset_view = all_dataset[all_dataset.event_type == 'view']"
   ]
  },
  {
   "cell_type": "code",
   "execution_count": 8,
   "metadata": {},
   "outputs": [
    {
     "data": {
      "text/plain": [
       "event_time\n",
       "0      32552\n",
       "1      53399\n",
       "2     123051\n",
       "3     192166\n",
       "4     230729\n",
       "5     268755\n",
       "6     282316\n",
       "7     288605\n",
       "8     289950\n",
       "9     240471\n",
       "10    198272\n",
       "11    186603\n",
       "12    186204\n",
       "13    205311\n",
       "14    187821\n",
       "15    189350\n",
       "16    200050\n",
       "17    178861\n",
       "18    137287\n",
       "19     92183\n",
       "20     51010\n",
       "21     30464\n",
       "22     17820\n",
       "23     13933\n",
       "Name: event_time, dtype: int64"
      ]
     },
     "execution_count": 8,
     "metadata": {},
     "output_type": "execute_result"
    }
   ],
   "source": [
    "count_view_hour = dataset_view.groupby([dataset_view.event_time.dt.hour]).event_time.count()\n",
    "dataset_view.groupby([dataset_view.event_time.dt.hour]).event_time.count()"
   ]
  },
  {
   "cell_type": "code",
   "execution_count": 9,
   "metadata": {},
   "outputs": [
    {
     "name": "stdout",
     "output_type": "stream",
     "text": [
      "In what part of the day is your store most visited? 8 o'clock\n",
      "Number of views: 289950\n"
     ]
    }
   ],
   "source": [
    "hour_indexes = np.arange(0,24)\n",
    "hour_indexes_visited = zip(count_view_hour, hour_indexes)\n",
    "hour_most_visited = max(hour_indexes_visited)\n",
    "print(f'In what part of the day is your store most visited? {hour_most_visited[1]} o\\'clock')\n",
    "print(f'Number of views: {hour_most_visited[0]}')"
   ]
  },
  {
   "cell_type": "markdown",
   "metadata": {},
   "source": [
    "#### Create a plot that for each day of the week show the hourly average of visitors your store has. "
   ]
  },
  {
   "cell_type": "code",
   "execution_count": 10,
   "metadata": {},
   "outputs": [
    {
     "name": "stdout",
     "output_type": "stream",
     "text": [
      "(1, 50345.0)\n",
      "(2, 48560.4)\n",
      "(4, 58499.625)\n",
      "(5, 53648.6)\n"
     ]
    }
   ],
   "source": [
    "num_days = []\n",
    "average_visitors = []\n",
    "\n",
    "for wkday, frame in dataset_view.groupby([dataset_view.event_time.dt.weekday]):\n",
    "    #print(f\"Weekday: {wkday!r}\")\n",
    "    num_days.append(wkday)\n",
    "    #print(frame.groupby([dataset.event_time.dt.hour]).event_time.count().mean())\n",
    "    average_visitors.append(frame.groupby([dataset.event_time.dt.hour]).event_time.count().mean())\n",
    "    \n",
    "\n",
    "\n",
    "my_zip = zip(num_days, average_visitors)\n",
    "for i in my_zip:\n",
    "    print(i)"
   ]
  },
  {
   "cell_type": "code",
   "execution_count": null,
   "metadata": {},
   "outputs": [],
   "source": []
  },
  {
   "cell_type": "code",
   "execution_count": null,
   "metadata": {},
   "outputs": [],
   "source": []
  }
 ],
 "metadata": {
  "kernelspec": {
   "display_name": "Python 3",
   "language": "python",
   "name": "python3"
  },
  "language_info": {
   "codemirror_mode": {
    "name": "ipython",
    "version": 3
   },
   "file_extension": ".py",
   "mimetype": "text/x-python",
   "name": "python",
   "nbconvert_exporter": "python",
   "pygments_lexer": "ipython3",
   "version": "3.7.6"
  }
 },
 "nbformat": 4,
 "nbformat_minor": 4
}
