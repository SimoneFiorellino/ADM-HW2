{
 "cells": [
  {
   "cell_type": "markdown",
   "metadata": {},
   "source": [
    "# rq2 #"
   ]
  },
  {
   "cell_type": "code",
   "execution_count": 9,
   "metadata": {},
   "outputs": [],
   "source": [
    "import pandas as pd\n",
    "dataset_oct=pd.read_csv(\"2019-Oct.csv\", header=\"infer\", parse_dates=[\"event_time\"],date_parser=pd.to_datetime,nrows=100000)\n"
   ]
  },
  {
   "cell_type": "code",
   "execution_count": 2,
   "metadata": {},
   "outputs": [],
   "source": [
    "import pandas as pd\n",
    "dataset_nov=pd.read_csv(\"/Users/eugeniobaldo/Desktop/2019-Nov.csv\", header=\"infer\", parse_dates=[\"event_time\"],date_parser=pd.to_datetime, nrows=100000)"
   ]
  },
  {
   "cell_type": "code",
   "execution_count": 18,
   "metadata": {},
   "outputs": [],
   "source": [
    "import functions as mod #importing the module with functions"
   ]
  },
  {
   "cell_type": "markdown",
   "metadata": {},
   "source": [
    "**What are the categories of the most trending products overall? For each month visualize this information through a plot showing the number of sold products per category.**"
   ]
  },
  {
   "cell_type": "markdown",
   "metadata": {},
   "source": [
    "* in the following two cells is applied a function which adds the category to the dataset. As category is considered the first world (for example computers.notebooks has computers as category). As subcategory, instead ,it has been considered the category_code (for example computers.notebooks is the subcategory)."
   ]
  },
  {
   "cell_type": "code",
   "execution_count": 19,
   "metadata": {},
   "outputs": [
    {
     "data": {
      "text/html": [
       "<div>\n",
       "<style scoped>\n",
       "    .dataframe tbody tr th:only-of-type {\n",
       "        vertical-align: middle;\n",
       "    }\n",
       "\n",
       "    .dataframe tbody tr th {\n",
       "        vertical-align: top;\n",
       "    }\n",
       "\n",
       "    .dataframe thead th {\n",
       "        text-align: right;\n",
       "    }\n",
       "</style>\n",
       "<table border=\"1\" class=\"dataframe\">\n",
       "  <thead>\n",
       "    <tr style=\"text-align: right;\">\n",
       "      <th></th>\n",
       "      <th>event_time</th>\n",
       "      <th>event_type</th>\n",
       "      <th>product_id</th>\n",
       "      <th>category_id</th>\n",
       "      <th>category_code</th>\n",
       "      <th>brand</th>\n",
       "      <th>price</th>\n",
       "      <th>user_id</th>\n",
       "      <th>user_session</th>\n",
       "      <th>main_category</th>\n",
       "    </tr>\n",
       "  </thead>\n",
       "  <tbody>\n",
       "    <tr>\n",
       "      <td>1</td>\n",
       "      <td>2019-10-01 00:00:00+00:00</td>\n",
       "      <td>view</td>\n",
       "      <td>3900821</td>\n",
       "      <td>2053013552326770905</td>\n",
       "      <td>appliances.environment.water_heater</td>\n",
       "      <td>aqua</td>\n",
       "      <td>33.20</td>\n",
       "      <td>554748717</td>\n",
       "      <td>9333dfbd-b87a-4708-9857-6336556b0fcc</td>\n",
       "      <td>appliances</td>\n",
       "    </tr>\n",
       "    <tr>\n",
       "      <td>2</td>\n",
       "      <td>2019-10-01 00:00:01+00:00</td>\n",
       "      <td>view</td>\n",
       "      <td>17200506</td>\n",
       "      <td>2053013559792632471</td>\n",
       "      <td>furniture.living_room.sofa</td>\n",
       "      <td>NaN</td>\n",
       "      <td>543.10</td>\n",
       "      <td>519107250</td>\n",
       "      <td>566511c2-e2e3-422b-b695-cf8e6e792ca8</td>\n",
       "      <td>furniture</td>\n",
       "    </tr>\n",
       "    <tr>\n",
       "      <td>3</td>\n",
       "      <td>2019-10-01 00:00:01+00:00</td>\n",
       "      <td>view</td>\n",
       "      <td>1307067</td>\n",
       "      <td>2053013558920217191</td>\n",
       "      <td>computers.notebook</td>\n",
       "      <td>lenovo</td>\n",
       "      <td>251.74</td>\n",
       "      <td>550050854</td>\n",
       "      <td>7c90fc70-0e80-4590-96f3-13c02c18c713</td>\n",
       "      <td>computers</td>\n",
       "    </tr>\n",
       "    <tr>\n",
       "      <td>4</td>\n",
       "      <td>2019-10-01 00:00:04+00:00</td>\n",
       "      <td>view</td>\n",
       "      <td>1004237</td>\n",
       "      <td>2053013555631882655</td>\n",
       "      <td>electronics.smartphone</td>\n",
       "      <td>apple</td>\n",
       "      <td>1081.98</td>\n",
       "      <td>535871217</td>\n",
       "      <td>c6bd7419-2748-4c56-95b4-8cec9ff8b80d</td>\n",
       "      <td>electronics</td>\n",
       "    </tr>\n",
       "    <tr>\n",
       "      <td>5</td>\n",
       "      <td>2019-10-01 00:00:05+00:00</td>\n",
       "      <td>view</td>\n",
       "      <td>1480613</td>\n",
       "      <td>2053013561092866779</td>\n",
       "      <td>computers.desktop</td>\n",
       "      <td>pulser</td>\n",
       "      <td>908.62</td>\n",
       "      <td>512742880</td>\n",
       "      <td>0d0d91c2-c9c2-4e81-90a5-86594dec0db9</td>\n",
       "      <td>computers</td>\n",
       "    </tr>\n",
       "  </tbody>\n",
       "</table>\n",
       "</div>"
      ],
      "text/plain": [
       "                 event_time event_type  product_id          category_id  \\\n",
       "1 2019-10-01 00:00:00+00:00       view     3900821  2053013552326770905   \n",
       "2 2019-10-01 00:00:01+00:00       view    17200506  2053013559792632471   \n",
       "3 2019-10-01 00:00:01+00:00       view     1307067  2053013558920217191   \n",
       "4 2019-10-01 00:00:04+00:00       view     1004237  2053013555631882655   \n",
       "5 2019-10-01 00:00:05+00:00       view     1480613  2053013561092866779   \n",
       "\n",
       "                         category_code   brand    price    user_id  \\\n",
       "1  appliances.environment.water_heater    aqua    33.20  554748717   \n",
       "2           furniture.living_room.sofa     NaN   543.10  519107250   \n",
       "3                   computers.notebook  lenovo   251.74  550050854   \n",
       "4               electronics.smartphone   apple  1081.98  535871217   \n",
       "5                    computers.desktop  pulser   908.62  512742880   \n",
       "\n",
       "                           user_session main_category  \n",
       "1  9333dfbd-b87a-4708-9857-6336556b0fcc    appliances  \n",
       "2  566511c2-e2e3-422b-b695-cf8e6e792ca8     furniture  \n",
       "3  7c90fc70-0e80-4590-96f3-13c02c18c713     computers  \n",
       "4  c6bd7419-2748-4c56-95b4-8cec9ff8b80d   electronics  \n",
       "5  0d0d91c2-c9c2-4e81-90a5-86594dec0db9     computers  "
      ]
     },
     "execution_count": 19,
     "metadata": {},
     "output_type": "execute_result"
    }
   ],
   "source": [
    "dataset_oct=mod.add_category(dataset_oct)\n",
    "dataset_oct.head()"
   ]
  },
  {
   "cell_type": "code",
   "execution_count": 20,
   "metadata": {},
   "outputs": [
    {
     "data": {
      "text/html": [
       "<div>\n",
       "<style scoped>\n",
       "    .dataframe tbody tr th:only-of-type {\n",
       "        vertical-align: middle;\n",
       "    }\n",
       "\n",
       "    .dataframe tbody tr th {\n",
       "        vertical-align: top;\n",
       "    }\n",
       "\n",
       "    .dataframe thead th {\n",
       "        text-align: right;\n",
       "    }\n",
       "</style>\n",
       "<table border=\"1\" class=\"dataframe\">\n",
       "  <thead>\n",
       "    <tr style=\"text-align: right;\">\n",
       "      <th></th>\n",
       "      <th>event_time</th>\n",
       "      <th>event_type</th>\n",
       "      <th>product_id</th>\n",
       "      <th>category_id</th>\n",
       "      <th>category_code</th>\n",
       "      <th>brand</th>\n",
       "      <th>price</th>\n",
       "      <th>user_id</th>\n",
       "      <th>user_session</th>\n",
       "      <th>main_category</th>\n",
       "    </tr>\n",
       "  </thead>\n",
       "  <tbody>\n",
       "    <tr>\n",
       "      <td>0</td>\n",
       "      <td>2019-11-01 00:00:00+00:00</td>\n",
       "      <td>view</td>\n",
       "      <td>1003461</td>\n",
       "      <td>2053013555631882655</td>\n",
       "      <td>electronics.smartphone</td>\n",
       "      <td>xiaomi</td>\n",
       "      <td>489.07</td>\n",
       "      <td>520088904</td>\n",
       "      <td>4d3b30da-a5e4-49df-b1a8-ba5943f1dd33</td>\n",
       "      <td>electronics</td>\n",
       "    </tr>\n",
       "    <tr>\n",
       "      <td>1</td>\n",
       "      <td>2019-11-01 00:00:00+00:00</td>\n",
       "      <td>view</td>\n",
       "      <td>5000088</td>\n",
       "      <td>2053013566100866035</td>\n",
       "      <td>appliances.sewing_machine</td>\n",
       "      <td>janome</td>\n",
       "      <td>293.65</td>\n",
       "      <td>530496790</td>\n",
       "      <td>8e5f4f83-366c-4f70-860e-ca7417414283</td>\n",
       "      <td>appliances</td>\n",
       "    </tr>\n",
       "    <tr>\n",
       "      <td>3</td>\n",
       "      <td>2019-11-01 00:00:01+00:00</td>\n",
       "      <td>view</td>\n",
       "      <td>3601530</td>\n",
       "      <td>2053013563810775923</td>\n",
       "      <td>appliances.kitchen.washer</td>\n",
       "      <td>lg</td>\n",
       "      <td>712.87</td>\n",
       "      <td>518085591</td>\n",
       "      <td>3bfb58cd-7892-48cc-8020-2f17e6de6e7f</td>\n",
       "      <td>appliances</td>\n",
       "    </tr>\n",
       "    <tr>\n",
       "      <td>4</td>\n",
       "      <td>2019-11-01 00:00:01+00:00</td>\n",
       "      <td>view</td>\n",
       "      <td>1004775</td>\n",
       "      <td>2053013555631882655</td>\n",
       "      <td>electronics.smartphone</td>\n",
       "      <td>xiaomi</td>\n",
       "      <td>183.27</td>\n",
       "      <td>558856683</td>\n",
       "      <td>313628f1-68b8-460d-84f6-cec7a8796ef2</td>\n",
       "      <td>electronics</td>\n",
       "    </tr>\n",
       "    <tr>\n",
       "      <td>5</td>\n",
       "      <td>2019-11-01 00:00:01+00:00</td>\n",
       "      <td>view</td>\n",
       "      <td>1306894</td>\n",
       "      <td>2053013558920217191</td>\n",
       "      <td>computers.notebook</td>\n",
       "      <td>hp</td>\n",
       "      <td>360.09</td>\n",
       "      <td>520772685</td>\n",
       "      <td>816a59f3-f5ae-4ccd-9b23-82aa8c23d33c</td>\n",
       "      <td>computers</td>\n",
       "    </tr>\n",
       "  </tbody>\n",
       "</table>\n",
       "</div>"
      ],
      "text/plain": [
       "                 event_time event_type  product_id          category_id  \\\n",
       "0 2019-11-01 00:00:00+00:00       view     1003461  2053013555631882655   \n",
       "1 2019-11-01 00:00:00+00:00       view     5000088  2053013566100866035   \n",
       "3 2019-11-01 00:00:01+00:00       view     3601530  2053013563810775923   \n",
       "4 2019-11-01 00:00:01+00:00       view     1004775  2053013555631882655   \n",
       "5 2019-11-01 00:00:01+00:00       view     1306894  2053013558920217191   \n",
       "\n",
       "               category_code   brand   price    user_id  \\\n",
       "0     electronics.smartphone  xiaomi  489.07  520088904   \n",
       "1  appliances.sewing_machine  janome  293.65  530496790   \n",
       "3  appliances.kitchen.washer      lg  712.87  518085591   \n",
       "4     electronics.smartphone  xiaomi  183.27  558856683   \n",
       "5         computers.notebook      hp  360.09  520772685   \n",
       "\n",
       "                           user_session main_category  \n",
       "0  4d3b30da-a5e4-49df-b1a8-ba5943f1dd33   electronics  \n",
       "1  8e5f4f83-366c-4f70-860e-ca7417414283    appliances  \n",
       "3  3bfb58cd-7892-48cc-8020-2f17e6de6e7f    appliances  \n",
       "4  313628f1-68b8-460d-84f6-cec7a8796ef2   electronics  \n",
       "5  816a59f3-f5ae-4ccd-9b23-82aa8c23d33c     computers  "
      ]
     },
     "execution_count": 20,
     "metadata": {},
     "output_type": "execute_result"
    }
   ],
   "source": [
    "dataset_nov=mod.add_category(dataset_nov)\n",
    "dataset_nov.head()"
   ]
  },
  {
   "cell_type": "markdown",
   "metadata": {},
   "source": [
    "* in the following analysis have been considered as most trending products the first 100 products purchased. in the following cells are displayed graphs which visualize the sum of the most trending products, grouped by category"
   ]
  },
  {
   "cell_type": "markdown",
   "metadata": {},
   "source": [
    "**october**"
   ]
  },
  {
   "cell_type": "code",
   "execution_count": 21,
   "metadata": {},
   "outputs": [
    {
     "data": {
      "image/png": "[encoded data removed]",
      "text/plain": [
       "<Figure size 1152x648 with 1 Axes>"
      ]
     },
     "metadata": {
      "needs_background": "light"
     },
     "output_type": "display_data"
    },
    {
     "data": {
      "text/plain": [
       "main_category\n",
       "electronics    706\n",
       "appliances      39\n",
       "computers       16\n",
       "accessories      6\n",
       "auto             3\n",
       "Name: product_id, dtype: int64"
      ]
     },
     "execution_count": 21,
     "metadata": {},
     "output_type": "execute_result"
    }
   ],
   "source": [
    "mod.trending_products(dataset_oct)"
   ]
  },
  {
   "cell_type": "markdown",
   "metadata": {},
   "source": [
    "**november**"
   ]
  },
  {
   "cell_type": "code",
   "execution_count": 22,
   "metadata": {},
   "outputs": [
    {
     "data": {
      "image/png": "[encoded data removed]",
      "text/plain": [
       "<Figure size 1152x648 with 1 Axes>"
      ]
     },
     "metadata": {
      "needs_background": "light"
     },
     "output_type": "display_data"
    },
    {
     "data": {
      "text/plain": [
       "main_category\n",
       "electronics    632\n",
       "appliances      42\n",
       "computers        9\n",
       "furniture        3\n",
       "Name: product_id, dtype: int64"
      ]
     },
     "execution_count": 22,
     "metadata": {},
     "output_type": "execute_result"
    }
   ],
   "source": [
    "mod.trending_products(dataset_nov)"
   ]
  },
  {
   "cell_type": "markdown",
   "metadata": {},
   "source": [
    "**plot the most visited subcategories**"
   ]
  },
  {
   "cell_type": "markdown",
   "metadata": {},
   "source": [
    "* in the following analysis have been considered only views events and most trending sucategories\n"
   ]
  },
  {
   "cell_type": "markdown",
   "metadata": {},
   "source": [
    "**october**"
   ]
  },
  {
   "cell_type": "code",
   "execution_count": 23,
   "metadata": {},
   "outputs": [
    {
     "data": {
      "image/png": "[encoded data removed]",
      "text/plain": [
       "<Figure size 1152x648 with 1 Axes>"
      ]
     },
     "metadata": {
      "needs_background": "light"
     },
     "output_type": "display_data"
    },
    {
     "data": {
      "text/plain": [
       "category_code\n",
       "electronics.smartphone               15274\n",
       "electronics.audio.headphone           1208\n",
       "electronics.video.tv                   359\n",
       "computers.notebook                     309\n",
       "appliances.kitchen.washer              204\n",
       "auto.accessories.player                172\n",
       "auto.accessories.alarm                  97\n",
       "appliances.environment.vacuum           96\n",
       "appliances.environment.air_heater       77\n",
       "electronics.clocks                      72\n",
       "Name: product_id, dtype: int64"
      ]
     },
     "execution_count": 23,
     "metadata": {},
     "output_type": "execute_result"
    }
   ],
   "source": [
    "mod.subcategories(dataset_oct)"
   ]
  },
  {
   "cell_type": "markdown",
   "metadata": {},
   "source": [
    "**november**"
   ]
  },
  {
   "cell_type": "code",
   "execution_count": 24,
   "metadata": {},
   "outputs": [
    {
     "data": {
      "image/png": "[encoded data removed]",
      "text/plain": [
       "<Figure size 1152x648 with 1 Axes>"
      ]
     },
     "metadata": {
      "needs_background": "light"
     },
     "output_type": "display_data"
    },
    {
     "data": {
      "text/plain": [
       "category_code\n",
       "electronics.smartphone              14562\n",
       "electronics.audio.headphone          1224\n",
       "electronics.video.tv                  676\n",
       "appliances.kitchen.washer             310\n",
       "computers.notebook                    203\n",
       "furniture.living_room.cabinet         175\n",
       "electronics.clocks                    175\n",
       "furniture.bedroom.bed                 165\n",
       "furniture.living_room.sofa            150\n",
       "appliances.environment.vacuum         118\n",
       "appliances.kitchen.refrigerators       73\n",
       "construction.tools.welding             71\n",
       "Name: product_id, dtype: int64"
      ]
     },
     "execution_count": 24,
     "metadata": {},
     "output_type": "execute_result"
    }
   ],
   "source": [
    "mod.subcategories(dataset_nov)"
   ]
  },
  {
   "cell_type": "markdown",
   "metadata": {},
   "source": [
    "**what are the ten most sold products per category?**"
   ]
  },
  {
   "cell_type": "markdown",
   "metadata": {},
   "source": [
    "* In the following analysis have been taken into account only the categories of the most trending products. For each of this category are displayed the first ten products ordered by number of sales for product"
   ]
  },
  {
   "cell_type": "markdown",
   "metadata": {},
   "source": [
    "**october**"
   ]
  },
  {
   "cell_type": "code",
   "execution_count": 25,
   "metadata": {},
   "outputs": [
    {
     "name": "stdout",
     "output_type": "stream",
     "text": [
      "ELECTRONICS\n",
      "product_id  main_category\n",
      "1004767     electronics      61\n",
      "1004856     electronics      59\n",
      "1002544     electronics      46\n",
      "1004833     electronics      26\n",
      "1004870     electronics      23\n",
      "4804056     electronics      22\n",
      "1004873     electronics      20\n",
      "1005115     electronics      19\n",
      "1004750     electronics      18\n",
      "1004741     electronics      18\n",
      "Name: product_id, dtype: int64\n",
      "APPLIANCES\n",
      "product_id  main_category\n",
      "3700926     appliances       6\n",
      "3600661     appliances       4\n",
      "3600163     appliances       4\n",
      "3700766     appliances       4\n",
      "3601405     appliances       3\n",
      "3601489     appliances       3\n",
      "2800403     appliances       3\n",
      "3600182     appliances       3\n",
      "2701657     appliances       3\n",
      "41900000    appliances       2\n",
      "Name: product_id, dtype: int64\n",
      "COMPUTERS\n",
      "product_id  main_category\n",
      "1307188     computers        5\n",
      "1307067     computers        5\n",
      "1500021     computers        3\n",
      "1701302     computers        3\n",
      "25900012    computers        2\n",
      "6801188     computers        2\n",
      "17800473    computers        2\n",
      "1307073     computers        2\n",
      "1307116     computers        2\n",
      "1307142     computers        1\n",
      "Name: product_id, dtype: int64\n",
      "ACCESSORIES\n",
      "product_id  main_category\n",
      "28401176    accessories      6\n",
      "28300432    accessories      1\n",
      "18300229    accessories      1\n",
      "Name: product_id, dtype: int64\n",
      "AUTO\n",
      "product_id  main_category\n",
      "5701245     auto             3\n",
      "6100130     auto             1\n",
      "6000273     auto             1\n",
      "6000094     auto             1\n",
      "5701128     auto             1\n",
      "5701063     auto             1\n",
      "5701002     auto             1\n",
      "5700619     auto             1\n",
      "4700671     auto             1\n",
      "4700660     auto             1\n",
      "Name: product_id, dtype: int64\n"
     ]
    }
   ],
   "source": [
    "mod.ten_most_sold(dataset_oct)"
   ]
  },
  {
   "cell_type": "markdown",
   "metadata": {},
   "source": [
    "**november**"
   ]
  },
  {
   "cell_type": "code",
   "execution_count": 26,
   "metadata": {},
   "outputs": [
    {
     "name": "stdout",
     "output_type": "stream",
     "text": [
      "ELECTRONICS\n",
      "product_id  main_category\n",
      "1004856     electronics      64\n",
      "1004767     electronics      40\n",
      "1005115     electronics      39\n",
      "1004249     electronics      27\n",
      "1004833     electronics      25\n",
      "1004870     electronics      25\n",
      "1002544     electronics      24\n",
      "4804056     electronics      24\n",
      "1005105     electronics      15\n",
      "1004739     electronics      15\n",
      "Name: product_id, dtype: int64\n",
      "APPLIANCES\n",
      "product_id  main_category\n",
      "3900002     appliances       6\n",
      "3600163     appliances       5\n",
      "2700614     appliances       4\n",
      "3600661     appliances       4\n",
      "3601485     appliances       3\n",
      "3601524     appliances       3\n",
      "3600452     appliances       3\n",
      "3700926     appliances       3\n",
      "2702277     appliances       3\n",
      "2702347     appliances       2\n",
      "Name: product_id, dtype: int64\n",
      "COMPUTERS\n",
      "product_id  main_category\n",
      "1307478     computers        3\n",
      "1307310     computers        2\n",
      "17800248    computers        2\n",
      "1307074     computers        2\n",
      "1500440     computers        1\n",
      "1500258     computers        1\n",
      "1480707     computers        1\n",
      "1480557     computers        1\n",
      "1480494     computers        1\n",
      "1480422     computers        1\n",
      "Name: product_id, dtype: int64\n",
      "FURNITURE\n",
      "product_id  main_category\n",
      "13201206    furniture        3\n",
      "14700139    furniture        2\n",
      "42300027    furniture        1\n",
      "7900173     furniture        1\n",
      "13200020    furniture        1\n",
      "13200605    furniture        1\n",
      "13200942    furniture        1\n",
      "13201002    furniture        1\n",
      "13500024    furniture        1\n",
      "16700794    furniture        1\n",
      "Name: product_id, dtype: int64\n"
     ]
    }
   ],
   "source": [
    "mod.ten_most_sold(dataset_nov)"
   ]
  },
  {
   "cell_type": "code",
   "execution_count": null,
   "metadata": {},
   "outputs": [],
   "source": []
  }
 ],
 "metadata": {
  "kernelspec": {
   "display_name": "Python 3",
   "language": "python",
   "name": "python3"
  },
  "language_info": {
   "codemirror_mode": {
    "name": "ipython",
    "version": 3
   },
   "file_extension": ".py",
   "mimetype": "text/x-python",
   "name": "python",
   "nbconvert_exporter": "python",
   "pygments_lexer": "ipython3",
   "version": "3.7.4"
  }
 },
 "nbformat": 4,
 "nbformat_minor": 2
}
