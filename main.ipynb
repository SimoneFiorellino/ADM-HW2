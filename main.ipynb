{
 "cells": [
  {
   "cell_type": "markdown",
   "metadata": {},
   "source": [
    "# Homework 2 - eCommerce analytics"
   ]
  },
  {
   "cell_type": "markdown",
   "metadata": {},
   "source": [
    "### [RQ1] A marketing funnel describes your customer’s journey with your e-commerce. It may involve different stages, beginning when someone learns about your business, when he/she visits your website for the first time, to the purchasing stage, marketing funnels map routes to conversion and beyond. Suppose your funnel involves just three simple steps: \n",
    "#### 1) view, 2) cart, 3) purchase. \n",
    "#### Which is the rate of complete funnels? "
   ]
  },
  {
   "cell_type": "code",
   "execution_count": 2,
   "metadata": {},
   "outputs": [],
   "source": [
    "import pandas as pd\n",
    "import numpy as np\n",
    "import matplotlib.pyplot as plt\n",
    "from sklearn.utils import shuffle\n",
    "import time\n",
    "import functions as mod \n",
    "import functions1 as modd \n",
    "import rq1_funcs as Rq1"
   ]
  },
  {
   "cell_type": "code",
   "execution_count": 4,
   "metadata": {},
   "outputs": [],
   "source": [
    "def read_both_datasets():\n",
    "    dataset = pd.concat([pd.read_csv('../dataset/2019-Oct.csv'),pd.read_csv('../dataset/2019-Nov.csv')]) \n",
    "    dataset = dataset.reset_index()\n",
    "    dataset_oct=pd.read_csv(\"../dataset/2019-Oct.csv\", header=\"infer\", parse_dates=[\"event_time\"],date_parser=pd.to_datetime)\n",
    "    dataset_nov=pd.read_csv(\"../dataset/2019-Nov.csv\", header=\"infer\", parse_dates=[\"event_time\"],date_parser=pd.to_datetime)\n",
    "    return dataset,dataset_oct,dataset_nov\n",
    "\n",
    "def read_sample_dataset():\n",
    "    dataset = pd.read_csv(\"../dataset/sample_dataset.csv\")\n",
    "    dataset = dataset.reset_index()\n",
    "    return dataset"
   ]
  },
  {
   "cell_type": "code",
   "execution_count": 5,
   "metadata": {},
   "outputs": [
    {
     "data": {
      "text/html": [
       "<div>\n",
       "<style scoped>\n",
       "    .dataframe tbody tr th:only-of-type {\n",
       "        vertical-align: middle;\n",
       "    }\n",
       "\n",
       "    .dataframe tbody tr th {\n",
       "        vertical-align: top;\n",
       "    }\n",
       "\n",
       "    .dataframe thead th {\n",
       "        text-align: right;\n",
       "    }\n",
       "</style>\n",
       "<table border=\"1\" class=\"dataframe\">\n",
       "  <thead>\n",
       "    <tr style=\"text-align: right;\">\n",
       "      <th></th>\n",
       "      <th>index</th>\n",
       "      <th>event_time</th>\n",
       "      <th>event_type</th>\n",
       "      <th>product_id</th>\n",
       "      <th>category_id</th>\n",
       "      <th>category_code</th>\n",
       "      <th>brand</th>\n",
       "      <th>price</th>\n",
       "      <th>user_id</th>\n",
       "      <th>user_session</th>\n",
       "    </tr>\n",
       "  </thead>\n",
       "  <tbody>\n",
       "    <tr>\n",
       "      <th>0</th>\n",
       "      <td>0</td>\n",
       "      <td>2019-10-01 00:00:00 UTC</td>\n",
       "      <td>view</td>\n",
       "      <td>44600062</td>\n",
       "      <td>2103807459595387724</td>\n",
       "      <td>NaN</td>\n",
       "      <td>shiseido</td>\n",
       "      <td>35.79</td>\n",
       "      <td>541312140</td>\n",
       "      <td>72d76fde-8bb3-4e00-8c23-a032dfed738c</td>\n",
       "    </tr>\n",
       "    <tr>\n",
       "      <th>1</th>\n",
       "      <td>1</td>\n",
       "      <td>2019-10-01 00:00:00 UTC</td>\n",
       "      <td>view</td>\n",
       "      <td>3900821</td>\n",
       "      <td>2053013552326770905</td>\n",
       "      <td>appliances.environment.water_heater</td>\n",
       "      <td>aqua</td>\n",
       "      <td>33.20</td>\n",
       "      <td>554748717</td>\n",
       "      <td>9333dfbd-b87a-4708-9857-6336556b0fcc</td>\n",
       "    </tr>\n",
       "    <tr>\n",
       "      <th>2</th>\n",
       "      <td>2</td>\n",
       "      <td>2019-10-01 00:00:01 UTC</td>\n",
       "      <td>view</td>\n",
       "      <td>17200506</td>\n",
       "      <td>2053013559792632471</td>\n",
       "      <td>furniture.living_room.sofa</td>\n",
       "      <td>NaN</td>\n",
       "      <td>543.10</td>\n",
       "      <td>519107250</td>\n",
       "      <td>566511c2-e2e3-422b-b695-cf8e6e792ca8</td>\n",
       "    </tr>\n",
       "    <tr>\n",
       "      <th>3</th>\n",
       "      <td>3</td>\n",
       "      <td>2019-10-01 00:00:01 UTC</td>\n",
       "      <td>view</td>\n",
       "      <td>1307067</td>\n",
       "      <td>2053013558920217191</td>\n",
       "      <td>computers.notebook</td>\n",
       "      <td>lenovo</td>\n",
       "      <td>251.74</td>\n",
       "      <td>550050854</td>\n",
       "      <td>7c90fc70-0e80-4590-96f3-13c02c18c713</td>\n",
       "    </tr>\n",
       "    <tr>\n",
       "      <th>4</th>\n",
       "      <td>4</td>\n",
       "      <td>2019-10-01 00:00:04 UTC</td>\n",
       "      <td>view</td>\n",
       "      <td>1004237</td>\n",
       "      <td>2053013555631882655</td>\n",
       "      <td>electronics.smartphone</td>\n",
       "      <td>apple</td>\n",
       "      <td>1081.98</td>\n",
       "      <td>535871217</td>\n",
       "      <td>c6bd7419-2748-4c56-95b4-8cec9ff8b80d</td>\n",
       "    </tr>\n",
       "  </tbody>\n",
       "</table>\n",
       "</div>"
      ],
      "text/plain": [
       "   index               event_time event_type  product_id          category_id  \\\n",
       "0      0  2019-10-01 00:00:00 UTC       view    44600062  2103807459595387724   \n",
       "1      1  2019-10-01 00:00:00 UTC       view     3900821  2053013552326770905   \n",
       "2      2  2019-10-01 00:00:01 UTC       view    17200506  2053013559792632471   \n",
       "3      3  2019-10-01 00:00:01 UTC       view     1307067  2053013558920217191   \n",
       "4      4  2019-10-01 00:00:04 UTC       view     1004237  2053013555631882655   \n",
       "\n",
       "                         category_code     brand    price    user_id  \\\n",
       "0                                  NaN  shiseido    35.79  541312140   \n",
       "1  appliances.environment.water_heater      aqua    33.20  554748717   \n",
       "2           furniture.living_room.sofa       NaN   543.10  519107250   \n",
       "3                   computers.notebook    lenovo   251.74  550050854   \n",
       "4               electronics.smartphone     apple  1081.98  535871217   \n",
       "\n",
       "                           user_session  \n",
       "0  72d76fde-8bb3-4e00-8c23-a032dfed738c  \n",
       "1  9333dfbd-b87a-4708-9857-6336556b0fcc  \n",
       "2  566511c2-e2e3-422b-b695-cf8e6e792ca8  \n",
       "3  7c90fc70-0e80-4590-96f3-13c02c18c713  \n",
       "4  c6bd7419-2748-4c56-95b4-8cec9ff8b80d  "
      ]
     },
     "execution_count": 5,
     "metadata": {},
     "output_type": "execute_result"
    }
   ],
   "source": [
    "dataset,dataset_oct,dataset_nov = read_both_datasets()\n",
    "dataset_oct1 = dataset_oct\n",
    "dataset_nov1 = dataset_nov\n",
    "frames = [dataset_oct1, dataset_nov1]\n",
    "dataset1 = pd.concat(frames)\n",
    "dataset1 = dataset1.reset_index()\n",
    "dataset.head()"
   ]
  },
  {
   "cell_type": "markdown",
   "metadata": {},
   "source": [
    "#### (a) What’s the operation users repeat more on average within a session? Produce a plot that shows the average number of times users perform each operation (view / removefromchart etc)."
   ]
  },
  {
   "cell_type": "code",
   "execution_count": 18,
   "metadata": {},
   "outputs": [
    {
     "data": {
      "image/png": "[encoded data removed]",
      "text/plain": [
       "<Figure size 1152x576 with 1 Axes>"
      ]
     },
     "metadata": {
      "needs_background": "light"
     },
     "output_type": "display_data"
    }
   ],
   "source": [
    "#Getting event-type on every user_session\n",
    "Rq1.on_avg_userSess(dataset)"
   ]
  },
  {
   "cell_type": "markdown",
   "metadata": {},
   "source": [
    "#### (b) How many times, on average, a user views a product before adding it to the cart?"
   ]
  },
  {
   "cell_type": "code",
   "execution_count": 19,
   "metadata": {},
   "outputs": [],
   "source": [
    "#Pivot Table according to Index \"User ID\" and \"Product ID\" and Columns are values of \"Event Type\" View, Cart and Purchase\n",
    "Index_label,_ = Rq1.user_view_prod(dataset)"
   ]
  },
  {
   "cell_type": "code",
   "execution_count": 20,
   "metadata": {},
   "outputs": [
    {
     "data": {
      "text/plain": [
       "<BarContainer object of 1 artists>"
      ]
     },
     "execution_count": 20,
     "metadata": {},
     "output_type": "execute_result"
    },
    {
     "data": {
      "image/png": "[encoded data removed]",
      "text/plain": [
       "<Figure size 1152x576 with 1 Axes>"
      ]
     },
     "metadata": {
      "needs_background": "light"
     },
     "output_type": "display_data"
    }
   ],
   "source": [
    "#Getting mean of the View and Plotting it\n",
    "mean = np.round(Index_label['view'].mean(),3)\n",
    "plt.figure(figsize=(16,8))\n",
    "plt.title(\" On average, a user views a product before adding it to the cart\",fontsize=17)\n",
    "plt.xlabel(\"Event\",fontsize=15)\n",
    "plt.ylabel(\"Number of times\",fontsize=15)\n",
    "plt.xticks(rotation=15)\n",
    "plt.bar(['View ({})'.format(mean)],mean,width = 0.7)"
   ]
  },
  {
   "cell_type": "markdown",
   "metadata": {},
   "source": [
    "#### (c) What’s the probability that products added once to the cart are effectively bought?"
   ]
  },
  {
   "cell_type": "code",
   "execution_count": 21,
   "metadata": {},
   "outputs": [],
   "source": [
    "#Finding Probability of Product bought after adding to CART\n",
    "_ ,OnAverage_viewProduct = Rq1.user_view_prod(dataset)\n",
    "Index_label_C = Rq1.find_prob(OnAverage_viewProduct)"
   ]
  },
  {
   "cell_type": "code",
   "execution_count": 22,
   "metadata": {},
   "outputs": [
    {
     "name": "stdout",
     "output_type": "stream",
     "text": [
      "Probability of product added to cart are effectively on Average is 57.46018 %\n"
     ]
    }
   ],
   "source": [
    "Index_label_Probability_avg = np.round(Index_label_C['probability in %'].mean(),5)\n",
    "print(\"Probability of product added to cart are effectively on Average is {} %\".format(Index_label_Probability_avg))"
   ]
  },
  {
   "cell_type": "markdown",
   "metadata": {},
   "source": [
    "#### (d) What’s the average time an item stays in the cart before being removed?"
   ]
  },
  {
   "cell_type": "markdown",
   "metadata": {},
   "source": [
    "  **!--- As \"RemoveFromCart\" value is absent in Event_type, It is not possible to solve\" ---!**"
   ]
  },
  {
   "cell_type": "markdown",
   "metadata": {},
   "source": [
    "#### (e) How much time passes on average between the first view time and a purchase/addition to cart?"
   ]
  },
  {
   "cell_type": "code",
   "execution_count": 6,
   "metadata": {},
   "outputs": [
    {
     "name": "stderr",
     "output_type": "stream",
     "text": [
      "C:\\Users\\Zain\\Desktop\\ROMA\\Sapienza\\ADM\\HW2\\scripts\\rq1_funcs.py:46: FutureWarning: by argument to sort_index is deprecated, please use .sort_values(by=...)\n",
      "  dataset = dataset.sort_index(by=[\"user_id\"]).head(10000000)#109950743\n",
      "C:\\Users\\Zain\\Desktop\\ROMA\\Sapienza\\ADM\\HW2\\scripts\\rq1_funcs.py:48: FutureWarning: by argument to sort_index is deprecated, please use .sort_values(by=...)\n",
      "  Sample = Sample.sort_index(by=[\"user_id\",\"event_time\",\"product_id\"])\n"
     ]
    },
    {
     "name": "stdout",
     "output_type": "stream",
     "text": [
      "Data with View Time and Cart Time Separated\n"
     ]
    },
    {
     "name": "stderr",
     "output_type": "stream",
     "text": [
      "C:\\Users\\Zain\\Desktop\\ROMA\\Sapienza\\ADM\\HW2\\scripts\\rq1_funcs.py:92: SettingWithCopyWarning: \n",
      "A value is trying to be set on a copy of a slice from a DataFrame.\n",
      "Try using .loc[row_indexer,col_indexer] = value instead\n",
      "\n",
      "See the caveats in the documentation: http://pandas.pydata.org/pandas-docs/stable/user_guide/indexing.html#returning-a-view-versus-a-copy\n",
      "  up_data['Difference'] = up_time\n"
     ]
    },
    {
     "data": {
      "text/html": [
       "<div>\n",
       "<style scoped>\n",
       "    .dataframe tbody tr th:only-of-type {\n",
       "        vertical-align: middle;\n",
       "    }\n",
       "\n",
       "    .dataframe tbody tr th {\n",
       "        vertical-align: top;\n",
       "    }\n",
       "\n",
       "    .dataframe thead th {\n",
       "        text-align: right;\n",
       "    }\n",
       "</style>\n",
       "<table border=\"1\" class=\"dataframe\">\n",
       "  <thead>\n",
       "    <tr style=\"text-align: right;\">\n",
       "      <th></th>\n",
       "      <th></th>\n",
       "      <th>View Time</th>\n",
       "      <th>Purchase / Cart Time</th>\n",
       "    </tr>\n",
       "    <tr>\n",
       "      <th>user_id</th>\n",
       "      <th>product_id</th>\n",
       "      <th></th>\n",
       "      <th></th>\n",
       "    </tr>\n",
       "  </thead>\n",
       "  <tbody>\n",
       "    <tr>\n",
       "      <th>74383042</th>\n",
       "      <th>30901102</th>\n",
       "      <td>2019-11-19 10:00:21</td>\n",
       "      <td>2019-11-19 10:03:47</td>\n",
       "    </tr>\n",
       "    <tr>\n",
       "      <th>94566147</th>\n",
       "      <th>1005007</th>\n",
       "      <td>2019-11-11 07:32:29</td>\n",
       "      <td>2019-11-12 08:03:18</td>\n",
       "    </tr>\n",
       "    <tr>\n",
       "      <th rowspan=\"3\" valign=\"top\">107837897</th>\n",
       "      <th>4700199</th>\n",
       "      <td>2019-11-13 17:09:21</td>\n",
       "      <td>2019-11-27 13:53:04</td>\n",
       "    </tr>\n",
       "    <tr>\n",
       "      <th>4700419</th>\n",
       "      <td>2019-11-13 17:16:41</td>\n",
       "      <td>2019-11-28 08:35:30</td>\n",
       "    </tr>\n",
       "    <tr>\n",
       "      <th>4700557</th>\n",
       "      <td>2019-11-23 14:59:48</td>\n",
       "      <td>2019-11-29 04:54:45</td>\n",
       "    </tr>\n",
       "    <tr>\n",
       "      <th>121339215</th>\n",
       "      <th>13400001</th>\n",
       "      <td>2019-11-25 07:45:46</td>\n",
       "      <td>2019-11-25 07:46:29</td>\n",
       "    </tr>\n",
       "    <tr>\n",
       "      <th>124298297</th>\n",
       "      <th>49100002</th>\n",
       "      <td>2019-11-18 13:51:26</td>\n",
       "      <td>2019-11-18 13:54:58</td>\n",
       "    </tr>\n",
       "    <tr>\n",
       "      <th>125917727</th>\n",
       "      <th>30100067</th>\n",
       "      <td>2019-11-08 17:12:46</td>\n",
       "      <td>2019-11-08 17:14:26</td>\n",
       "    </tr>\n",
       "    <tr>\n",
       "      <th>126150271</th>\n",
       "      <th>26900069</th>\n",
       "      <td>2019-11-23 05:31:41</td>\n",
       "      <td>2019-11-23 05:31:55</td>\n",
       "    </tr>\n",
       "    <tr>\n",
       "      <th>128968633</th>\n",
       "      <th>1004888</th>\n",
       "      <td>2019-11-11 13:26:44</td>\n",
       "      <td>2019-11-22 13:52:55</td>\n",
       "    </tr>\n",
       "  </tbody>\n",
       "</table>\n",
       "</div>"
      ],
      "text/plain": [
       "                                View Time Purchase / Cart Time\n",
       "user_id   product_id                                          \n",
       "74383042  30901102    2019-11-19 10:00:21  2019-11-19 10:03:47\n",
       "94566147  1005007     2019-11-11 07:32:29  2019-11-12 08:03:18\n",
       "107837897 4700199     2019-11-13 17:09:21  2019-11-27 13:53:04\n",
       "          4700419     2019-11-13 17:16:41  2019-11-28 08:35:30\n",
       "          4700557     2019-11-23 14:59:48  2019-11-29 04:54:45\n",
       "121339215 13400001    2019-11-25 07:45:46  2019-11-25 07:46:29\n",
       "124298297 49100002    2019-11-18 13:51:26  2019-11-18 13:54:58\n",
       "125917727 30100067    2019-11-08 17:12:46  2019-11-08 17:14:26\n",
       "126150271 26900069    2019-11-23 05:31:41  2019-11-23 05:31:55\n",
       "128968633 1004888     2019-11-11 13:26:44  2019-11-22 13:52:55"
      ]
     },
     "execution_count": 6,
     "metadata": {},
     "output_type": "execute_result"
    }
   ],
   "source": [
    "toShow,finalData,in_min = Rq1.avg_on_viewPurch(dataset)\n",
    "print(\"Data with View Time and Cart Time Separated\")\n",
    "pd.DataFrame(toShow[[\"View Time\",\"Purchase / Cart Time\"]]).head(10)"
   ]
  },
  {
   "cell_type": "markdown",
   "metadata": {},
   "source": [
    "**Average time between first View and Cart is 30 hours as mentioned below, because of some anomalies**\n",
    "*Like some of the client have time difference like 15 days, Thats why average is boosted upto 30 Hours*"
   ]
  },
  {
   "cell_type": "code",
   "execution_count": 11,
   "metadata": {},
   "outputs": [
    {
     "name": "stdout",
     "output_type": "stream",
     "text": [
      "Average between the first view time and a purchase/addition to cart is 30.0 hours\n",
      "Data with View Time and Cart Time (Time Difference)\n"
     ]
    },
    {
     "data": {
      "text/html": [
       "<div>\n",
       "<style scoped>\n",
       "    .dataframe tbody tr th:only-of-type {\n",
       "        vertical-align: middle;\n",
       "    }\n",
       "\n",
       "    .dataframe tbody tr th {\n",
       "        vertical-align: top;\n",
       "    }\n",
       "\n",
       "    .dataframe thead th {\n",
       "        text-align: right;\n",
       "    }\n",
       "</style>\n",
       "<table border=\"1\" class=\"dataframe\">\n",
       "  <thead>\n",
       "    <tr style=\"text-align: right;\">\n",
       "      <th></th>\n",
       "      <th></th>\n",
       "      <th>View Time</th>\n",
       "      <th>Purchase / Cart Time</th>\n",
       "      <th>Difference</th>\n",
       "    </tr>\n",
       "    <tr>\n",
       "      <th>user_id</th>\n",
       "      <th>product_id</th>\n",
       "      <th></th>\n",
       "      <th></th>\n",
       "      <th></th>\n",
       "    </tr>\n",
       "  </thead>\n",
       "  <tbody>\n",
       "    <tr>\n",
       "      <th>74383042</th>\n",
       "      <th>30901102</th>\n",
       "      <td>2019-11-19 10:00:21</td>\n",
       "      <td>2019-11-19 10:03:47</td>\n",
       "      <td>3.0 minutes</td>\n",
       "    </tr>\n",
       "    <tr>\n",
       "      <th>94566147</th>\n",
       "      <th>1005007</th>\n",
       "      <td>2019-11-11 07:32:29</td>\n",
       "      <td>2019-11-12 08:03:18</td>\n",
       "      <td>1.02 days</td>\n",
       "    </tr>\n",
       "    <tr>\n",
       "      <th rowspan=\"3\" valign=\"top\">107837897</th>\n",
       "      <th>4700199</th>\n",
       "      <td>2019-11-13 17:09:21</td>\n",
       "      <td>2019-11-27 13:53:04</td>\n",
       "      <td>13.86 days</td>\n",
       "    </tr>\n",
       "    <tr>\n",
       "      <th>4700419</th>\n",
       "      <td>2019-11-13 17:16:41</td>\n",
       "      <td>2019-11-28 08:35:30</td>\n",
       "      <td>14.64 days</td>\n",
       "    </tr>\n",
       "    <tr>\n",
       "      <th>4700557</th>\n",
       "      <td>2019-11-23 14:59:48</td>\n",
       "      <td>2019-11-29 04:54:45</td>\n",
       "      <td>5.58 days</td>\n",
       "    </tr>\n",
       "    <tr>\n",
       "      <th>121339215</th>\n",
       "      <th>13400001</th>\n",
       "      <td>2019-11-25 07:45:46</td>\n",
       "      <td>2019-11-25 07:46:29</td>\n",
       "      <td>43.0 seconds</td>\n",
       "    </tr>\n",
       "    <tr>\n",
       "      <th>124298297</th>\n",
       "      <th>49100002</th>\n",
       "      <td>2019-11-18 13:51:26</td>\n",
       "      <td>2019-11-18 13:54:58</td>\n",
       "      <td>4.0 minutes</td>\n",
       "    </tr>\n",
       "    <tr>\n",
       "      <th>125917727</th>\n",
       "      <th>30100067</th>\n",
       "      <td>2019-11-08 17:12:46</td>\n",
       "      <td>2019-11-08 17:14:26</td>\n",
       "      <td>2.0 minutes</td>\n",
       "    </tr>\n",
       "    <tr>\n",
       "      <th>126150271</th>\n",
       "      <th>26900069</th>\n",
       "      <td>2019-11-23 05:31:41</td>\n",
       "      <td>2019-11-23 05:31:55</td>\n",
       "      <td>14.0 seconds</td>\n",
       "    </tr>\n",
       "    <tr>\n",
       "      <th rowspan=\"2\" valign=\"top\">128968633</th>\n",
       "      <th>1004888</th>\n",
       "      <td>2019-11-11 13:26:44</td>\n",
       "      <td>2019-11-22 13:52:55</td>\n",
       "      <td>11.02 days</td>\n",
       "    </tr>\n",
       "    <tr>\n",
       "      <th>21401209</th>\n",
       "      <td>2019-11-26 14:06:35</td>\n",
       "      <td>2019-11-26 14:07:11</td>\n",
       "      <td>36.0 seconds</td>\n",
       "    </tr>\n",
       "    <tr>\n",
       "      <th>143562268</th>\n",
       "      <th>13400771</th>\n",
       "      <td>2019-11-11 20:57:11</td>\n",
       "      <td>2019-11-11 20:58:01</td>\n",
       "      <td>50.0 seconds</td>\n",
       "    </tr>\n",
       "    <tr>\n",
       "      <th>149269892</th>\n",
       "      <th>3701081</th>\n",
       "      <td>2019-11-22 08:00:59</td>\n",
       "      <td>2019-11-22 08:10:02</td>\n",
       "      <td>9.0 minutes</td>\n",
       "    </tr>\n",
       "    <tr>\n",
       "      <th>154128341</th>\n",
       "      <th>11700129</th>\n",
       "      <td>2019-11-13 16:59:02</td>\n",
       "      <td>2019-11-13 16:59:29</td>\n",
       "      <td>27.0 seconds</td>\n",
       "    </tr>\n",
       "    <tr>\n",
       "      <th>157929318</th>\n",
       "      <th>28100010</th>\n",
       "      <td>2019-11-20 08:34:07</td>\n",
       "      <td>2019-11-20 08:35:07</td>\n",
       "      <td>1.0 minutes</td>\n",
       "    </tr>\n",
       "    <tr>\n",
       "      <th>158971609</th>\n",
       "      <th>32403907</th>\n",
       "      <td>2019-11-22 23:58:02</td>\n",
       "      <td>2019-11-22 23:58:53</td>\n",
       "      <td>51.0 seconds</td>\n",
       "    </tr>\n",
       "    <tr>\n",
       "      <th>176495092</th>\n",
       "      <th>6301929</th>\n",
       "      <td>2019-11-08 07:00:54</td>\n",
       "      <td>2019-11-08 07:01:42</td>\n",
       "      <td>48.0 seconds</td>\n",
       "    </tr>\n",
       "    <tr>\n",
       "      <th>192078182</th>\n",
       "      <th>3701005</th>\n",
       "      <td>2019-11-27 08:01:40</td>\n",
       "      <td>2019-11-27 08:02:05</td>\n",
       "      <td>25.0 seconds</td>\n",
       "    </tr>\n",
       "    <tr>\n",
       "      <th rowspan=\"3\" valign=\"top\">197647707</th>\n",
       "      <th>2500566</th>\n",
       "      <td>2019-11-29 08:10:49</td>\n",
       "      <td>2019-11-29 08:10:58</td>\n",
       "      <td>9.0 seconds</td>\n",
       "    </tr>\n",
       "    <tr>\n",
       "      <th>2501799</th>\n",
       "      <td>2019-11-29 08:46:27</td>\n",
       "      <td>2019-11-29 08:55:58</td>\n",
       "      <td>10.0 minutes</td>\n",
       "    </tr>\n",
       "    <tr>\n",
       "      <th>28721201</th>\n",
       "      <td>2019-11-20 05:27:22</td>\n",
       "      <td>2019-11-20 05:38:40</td>\n",
       "      <td>11.0 minutes</td>\n",
       "    </tr>\n",
       "    <tr>\n",
       "      <th>199915639</th>\n",
       "      <th>4700557</th>\n",
       "      <td>2019-11-14 13:34:06</td>\n",
       "      <td>2019-11-14 13:34:11</td>\n",
       "      <td>5.0 seconds</td>\n",
       "    </tr>\n",
       "    <tr>\n",
       "      <th>216847761</th>\n",
       "      <th>3600163</th>\n",
       "      <td>2019-11-11 01:49:40</td>\n",
       "      <td>2019-11-11 01:51:57</td>\n",
       "      <td>2.0 minutes</td>\n",
       "    </tr>\n",
       "    <tr>\n",
       "      <th>224421853</th>\n",
       "      <th>3900774</th>\n",
       "      <td>2019-11-27 19:40:23</td>\n",
       "      <td>2019-11-27 19:44:02</td>\n",
       "      <td>4.0 minutes</td>\n",
       "    </tr>\n",
       "    <tr>\n",
       "      <th>225644257</th>\n",
       "      <th>6800309</th>\n",
       "      <td>2019-11-08 09:31:20</td>\n",
       "      <td>2019-11-08 09:33:52</td>\n",
       "      <td>3.0 minutes</td>\n",
       "    </tr>\n",
       "    <tr>\n",
       "      <th>226242984</th>\n",
       "      <th>4804718</th>\n",
       "      <td>2019-11-04 11:59:06</td>\n",
       "      <td>2019-11-04 12:00:02</td>\n",
       "      <td>56.0 seconds</td>\n",
       "    </tr>\n",
       "    <tr>\n",
       "      <th rowspan=\"3\" valign=\"top\">227293446</th>\n",
       "      <th>1005253</th>\n",
       "      <td>2019-11-27 14:37:36</td>\n",
       "      <td>2019-11-27 14:38:06</td>\n",
       "      <td>30.0 seconds</td>\n",
       "    </tr>\n",
       "    <tr>\n",
       "      <th>4804660</th>\n",
       "      <td>2019-11-26 16:22:55</td>\n",
       "      <td>2019-11-26 16:24:11</td>\n",
       "      <td>1.0 minutes</td>\n",
       "    </tr>\n",
       "    <tr>\n",
       "      <th>17303017</th>\n",
       "      <td>2019-11-22 17:49:25</td>\n",
       "      <td>2019-11-22 17:49:41</td>\n",
       "      <td>16.0 seconds</td>\n",
       "    </tr>\n",
       "    <tr>\n",
       "      <th>229356564</th>\n",
       "      <th>4501329</th>\n",
       "      <td>2019-11-09 06:59:47</td>\n",
       "      <td>2019-11-09 07:00:43</td>\n",
       "      <td>56.0 seconds</td>\n",
       "    </tr>\n",
       "  </tbody>\n",
       "</table>\n",
       "</div>"
      ],
      "text/plain": [
       "                                View Time Purchase / Cart Time    Difference\n",
       "user_id   product_id                                                        \n",
       "74383042  30901102    2019-11-19 10:00:21  2019-11-19 10:03:47   3.0 minutes\n",
       "94566147  1005007     2019-11-11 07:32:29  2019-11-12 08:03:18     1.02 days\n",
       "107837897 4700199     2019-11-13 17:09:21  2019-11-27 13:53:04    13.86 days\n",
       "          4700419     2019-11-13 17:16:41  2019-11-28 08:35:30    14.64 days\n",
       "          4700557     2019-11-23 14:59:48  2019-11-29 04:54:45     5.58 days\n",
       "121339215 13400001    2019-11-25 07:45:46  2019-11-25 07:46:29  43.0 seconds\n",
       "124298297 49100002    2019-11-18 13:51:26  2019-11-18 13:54:58   4.0 minutes\n",
       "125917727 30100067    2019-11-08 17:12:46  2019-11-08 17:14:26   2.0 minutes\n",
       "126150271 26900069    2019-11-23 05:31:41  2019-11-23 05:31:55  14.0 seconds\n",
       "128968633 1004888     2019-11-11 13:26:44  2019-11-22 13:52:55    11.02 days\n",
       "          21401209    2019-11-26 14:06:35  2019-11-26 14:07:11  36.0 seconds\n",
       "143562268 13400771    2019-11-11 20:57:11  2019-11-11 20:58:01  50.0 seconds\n",
       "149269892 3701081     2019-11-22 08:00:59  2019-11-22 08:10:02   9.0 minutes\n",
       "154128341 11700129    2019-11-13 16:59:02  2019-11-13 16:59:29  27.0 seconds\n",
       "157929318 28100010    2019-11-20 08:34:07  2019-11-20 08:35:07   1.0 minutes\n",
       "158971609 32403907    2019-11-22 23:58:02  2019-11-22 23:58:53  51.0 seconds\n",
       "176495092 6301929     2019-11-08 07:00:54  2019-11-08 07:01:42  48.0 seconds\n",
       "192078182 3701005     2019-11-27 08:01:40  2019-11-27 08:02:05  25.0 seconds\n",
       "197647707 2500566     2019-11-29 08:10:49  2019-11-29 08:10:58   9.0 seconds\n",
       "          2501799     2019-11-29 08:46:27  2019-11-29 08:55:58  10.0 minutes\n",
       "          28721201    2019-11-20 05:27:22  2019-11-20 05:38:40  11.0 minutes\n",
       "199915639 4700557     2019-11-14 13:34:06  2019-11-14 13:34:11   5.0 seconds\n",
       "216847761 3600163     2019-11-11 01:49:40  2019-11-11 01:51:57   2.0 minutes\n",
       "224421853 3900774     2019-11-27 19:40:23  2019-11-27 19:44:02   4.0 minutes\n",
       "225644257 6800309     2019-11-08 09:31:20  2019-11-08 09:33:52   3.0 minutes\n",
       "226242984 4804718     2019-11-04 11:59:06  2019-11-04 12:00:02  56.0 seconds\n",
       "227293446 1005253     2019-11-27 14:37:36  2019-11-27 14:38:06  30.0 seconds\n",
       "          4804660     2019-11-26 16:22:55  2019-11-26 16:24:11   1.0 minutes\n",
       "          17303017    2019-11-22 17:49:25  2019-11-22 17:49:41  16.0 seconds\n",
       "229356564 4501329     2019-11-09 06:59:47  2019-11-09 07:00:43  56.0 seconds"
      ]
     },
     "execution_count": 11,
     "metadata": {},
     "output_type": "execute_result"
    }
   ],
   "source": [
    "print(\"Average between the first view time and a purchase/addition to cart is {} hours\".format(np.round(np.mean(in_min)/60),3))  \n",
    "print(\"Data with View Time and Cart Time (Time Difference)\")\n",
    "finalData.iloc[:,2:].head(30)"
   ]
  },
  {
   "cell_type": "markdown",
   "metadata": {},
   "source": [
    "\n",
    "### <br><br><br><br> [RQ2] What are the categories of the most trending products overall? For each month visualize this information through a plot showing the number of sold products per category.\n",
    "#### * Plot the most visited subcategories.\n",
    "#### * What are the 10 most sold products per category?\n"
   ]
  },
  {
   "cell_type": "markdown",
   "metadata": {},
   "source": [
    "* in the following two cells is applied a function which adds the category to the dataset. As category is considered the first world (for example computers.notebooks has computers as category). As subcategory, instead ,it has been considered the category_code (for example computers.notebooks is the subcategory)."
   ]
  },
  {
   "cell_type": "code",
   "execution_count": 14,
   "metadata": {},
   "outputs": [
    {
     "data": {
      "text/html": [
       "<div>\n",
       "<style scoped>\n",
       "    .dataframe tbody tr th:only-of-type {\n",
       "        vertical-align: middle;\n",
       "    }\n",
       "\n",
       "    .dataframe tbody tr th {\n",
       "        vertical-align: top;\n",
       "    }\n",
       "\n",
       "    .dataframe thead th {\n",
       "        text-align: right;\n",
       "    }\n",
       "</style>\n",
       "<table border=\"1\" class=\"dataframe\">\n",
       "  <thead>\n",
       "    <tr style=\"text-align: right;\">\n",
       "      <th></th>\n",
       "      <th>event_time</th>\n",
       "      <th>event_type</th>\n",
       "      <th>product_id</th>\n",
       "      <th>category_id</th>\n",
       "      <th>category_code</th>\n",
       "      <th>brand</th>\n",
       "      <th>price</th>\n",
       "      <th>user_id</th>\n",
       "      <th>user_session</th>\n",
       "      <th>main_category</th>\n",
       "    </tr>\n",
       "  </thead>\n",
       "  <tbody>\n",
       "    <tr>\n",
       "      <th>1</th>\n",
       "      <td>2019-10-01 00:00:00+00:00</td>\n",
       "      <td>view</td>\n",
       "      <td>3900821</td>\n",
       "      <td>2053013552326770905</td>\n",
       "      <td>appliances.environment.water_heater</td>\n",
       "      <td>aqua</td>\n",
       "      <td>33.20</td>\n",
       "      <td>554748717</td>\n",
       "      <td>9333dfbd-b87a-4708-9857-6336556b0fcc</td>\n",
       "      <td>appliances</td>\n",
       "    </tr>\n",
       "    <tr>\n",
       "      <th>2</th>\n",
       "      <td>2019-10-01 00:00:01+00:00</td>\n",
       "      <td>view</td>\n",
       "      <td>17200506</td>\n",
       "      <td>2053013559792632471</td>\n",
       "      <td>furniture.living_room.sofa</td>\n",
       "      <td>NaN</td>\n",
       "      <td>543.10</td>\n",
       "      <td>519107250</td>\n",
       "      <td>566511c2-e2e3-422b-b695-cf8e6e792ca8</td>\n",
       "      <td>furniture</td>\n",
       "    </tr>\n",
       "    <tr>\n",
       "      <th>3</th>\n",
       "      <td>2019-10-01 00:00:01+00:00</td>\n",
       "      <td>view</td>\n",
       "      <td>1307067</td>\n",
       "      <td>2053013558920217191</td>\n",
       "      <td>computers.notebook</td>\n",
       "      <td>lenovo</td>\n",
       "      <td>251.74</td>\n",
       "      <td>550050854</td>\n",
       "      <td>7c90fc70-0e80-4590-96f3-13c02c18c713</td>\n",
       "      <td>computers</td>\n",
       "    </tr>\n",
       "    <tr>\n",
       "      <th>4</th>\n",
       "      <td>2019-10-01 00:00:04+00:00</td>\n",
       "      <td>view</td>\n",
       "      <td>1004237</td>\n",
       "      <td>2053013555631882655</td>\n",
       "      <td>electronics.smartphone</td>\n",
       "      <td>apple</td>\n",
       "      <td>1081.98</td>\n",
       "      <td>535871217</td>\n",
       "      <td>c6bd7419-2748-4c56-95b4-8cec9ff8b80d</td>\n",
       "      <td>electronics</td>\n",
       "    </tr>\n",
       "    <tr>\n",
       "      <th>5</th>\n",
       "      <td>2019-10-01 00:00:05+00:00</td>\n",
       "      <td>view</td>\n",
       "      <td>1480613</td>\n",
       "      <td>2053013561092866779</td>\n",
       "      <td>computers.desktop</td>\n",
       "      <td>pulser</td>\n",
       "      <td>908.62</td>\n",
       "      <td>512742880</td>\n",
       "      <td>0d0d91c2-c9c2-4e81-90a5-86594dec0db9</td>\n",
       "      <td>computers</td>\n",
       "    </tr>\n",
       "  </tbody>\n",
       "</table>\n",
       "</div>"
      ],
      "text/plain": [
       "                 event_time event_type  product_id          category_id  \\\n",
       "1 2019-10-01 00:00:00+00:00       view     3900821  2053013552326770905   \n",
       "2 2019-10-01 00:00:01+00:00       view    17200506  2053013559792632471   \n",
       "3 2019-10-01 00:00:01+00:00       view     1307067  2053013558920217191   \n",
       "4 2019-10-01 00:00:04+00:00       view     1004237  2053013555631882655   \n",
       "5 2019-10-01 00:00:05+00:00       view     1480613  2053013561092866779   \n",
       "\n",
       "                         category_code   brand    price    user_id  \\\n",
       "1  appliances.environment.water_heater    aqua    33.20  554748717   \n",
       "2           furniture.living_room.sofa     NaN   543.10  519107250   \n",
       "3                   computers.notebook  lenovo   251.74  550050854   \n",
       "4               electronics.smartphone   apple  1081.98  535871217   \n",
       "5                    computers.desktop  pulser   908.62  512742880   \n",
       "\n",
       "                           user_session main_category  \n",
       "1  9333dfbd-b87a-4708-9857-6336556b0fcc    appliances  \n",
       "2  566511c2-e2e3-422b-b695-cf8e6e792ca8     furniture  \n",
       "3  7c90fc70-0e80-4590-96f3-13c02c18c713     computers  \n",
       "4  c6bd7419-2748-4c56-95b4-8cec9ff8b80d   electronics  \n",
       "5  0d0d91c2-c9c2-4e81-90a5-86594dec0db9     computers  "
      ]
     },
     "execution_count": 14,
     "metadata": {},
     "output_type": "execute_result"
    }
   ],
   "source": [
    "dataset_oct=mod.add_category(dataset_oct)\n",
    "dataset_oct.head()"
   ]
  },
  {
   "cell_type": "code",
   "execution_count": 15,
   "metadata": {},
   "outputs": [
    {
     "data": {
      "text/html": [
       "<div>\n",
       "<style scoped>\n",
       "    .dataframe tbody tr th:only-of-type {\n",
       "        vertical-align: middle;\n",
       "    }\n",
       "\n",
       "    .dataframe tbody tr th {\n",
       "        vertical-align: top;\n",
       "    }\n",
       "\n",
       "    .dataframe thead th {\n",
       "        text-align: right;\n",
       "    }\n",
       "</style>\n",
       "<table border=\"1\" class=\"dataframe\">\n",
       "  <thead>\n",
       "    <tr style=\"text-align: right;\">\n",
       "      <th></th>\n",
       "      <th>event_time</th>\n",
       "      <th>event_type</th>\n",
       "      <th>product_id</th>\n",
       "      <th>category_id</th>\n",
       "      <th>category_code</th>\n",
       "      <th>brand</th>\n",
       "      <th>price</th>\n",
       "      <th>user_id</th>\n",
       "      <th>user_session</th>\n",
       "      <th>main_category</th>\n",
       "    </tr>\n",
       "  </thead>\n",
       "  <tbody>\n",
       "    <tr>\n",
       "      <th>0</th>\n",
       "      <td>2019-11-01 00:00:00+00:00</td>\n",
       "      <td>view</td>\n",
       "      <td>1003461</td>\n",
       "      <td>2053013555631882655</td>\n",
       "      <td>electronics.smartphone</td>\n",
       "      <td>xiaomi</td>\n",
       "      <td>489.07</td>\n",
       "      <td>520088904</td>\n",
       "      <td>4d3b30da-a5e4-49df-b1a8-ba5943f1dd33</td>\n",
       "      <td>electronics</td>\n",
       "    </tr>\n",
       "    <tr>\n",
       "      <th>1</th>\n",
       "      <td>2019-11-01 00:00:00+00:00</td>\n",
       "      <td>view</td>\n",
       "      <td>5000088</td>\n",
       "      <td>2053013566100866035</td>\n",
       "      <td>appliances.sewing_machine</td>\n",
       "      <td>janome</td>\n",
       "      <td>293.65</td>\n",
       "      <td>530496790</td>\n",
       "      <td>8e5f4f83-366c-4f70-860e-ca7417414283</td>\n",
       "      <td>appliances</td>\n",
       "    </tr>\n",
       "    <tr>\n",
       "      <th>3</th>\n",
       "      <td>2019-11-01 00:00:01+00:00</td>\n",
       "      <td>view</td>\n",
       "      <td>3601530</td>\n",
       "      <td>2053013563810775923</td>\n",
       "      <td>appliances.kitchen.washer</td>\n",
       "      <td>lg</td>\n",
       "      <td>712.87</td>\n",
       "      <td>518085591</td>\n",
       "      <td>3bfb58cd-7892-48cc-8020-2f17e6de6e7f</td>\n",
       "      <td>appliances</td>\n",
       "    </tr>\n",
       "    <tr>\n",
       "      <th>4</th>\n",
       "      <td>2019-11-01 00:00:01+00:00</td>\n",
       "      <td>view</td>\n",
       "      <td>1004775</td>\n",
       "      <td>2053013555631882655</td>\n",
       "      <td>electronics.smartphone</td>\n",
       "      <td>xiaomi</td>\n",
       "      <td>183.27</td>\n",
       "      <td>558856683</td>\n",
       "      <td>313628f1-68b8-460d-84f6-cec7a8796ef2</td>\n",
       "      <td>electronics</td>\n",
       "    </tr>\n",
       "    <tr>\n",
       "      <th>5</th>\n",
       "      <td>2019-11-01 00:00:01+00:00</td>\n",
       "      <td>view</td>\n",
       "      <td>1306894</td>\n",
       "      <td>2053013558920217191</td>\n",
       "      <td>computers.notebook</td>\n",
       "      <td>hp</td>\n",
       "      <td>360.09</td>\n",
       "      <td>520772685</td>\n",
       "      <td>816a59f3-f5ae-4ccd-9b23-82aa8c23d33c</td>\n",
       "      <td>computers</td>\n",
       "    </tr>\n",
       "  </tbody>\n",
       "</table>\n",
       "</div>"
      ],
      "text/plain": [
       "                 event_time event_type  product_id          category_id  \\\n",
       "0 2019-11-01 00:00:00+00:00       view     1003461  2053013555631882655   \n",
       "1 2019-11-01 00:00:00+00:00       view     5000088  2053013566100866035   \n",
       "3 2019-11-01 00:00:01+00:00       view     3601530  2053013563810775923   \n",
       "4 2019-11-01 00:00:01+00:00       view     1004775  2053013555631882655   \n",
       "5 2019-11-01 00:00:01+00:00       view     1306894  2053013558920217191   \n",
       "\n",
       "               category_code   brand   price    user_id  \\\n",
       "0     electronics.smartphone  xiaomi  489.07  520088904   \n",
       "1  appliances.sewing_machine  janome  293.65  530496790   \n",
       "3  appliances.kitchen.washer      lg  712.87  518085591   \n",
       "4     electronics.smartphone  xiaomi  183.27  558856683   \n",
       "5         computers.notebook      hp  360.09  520772685   \n",
       "\n",
       "                           user_session main_category  \n",
       "0  4d3b30da-a5e4-49df-b1a8-ba5943f1dd33   electronics  \n",
       "1  8e5f4f83-366c-4f70-860e-ca7417414283    appliances  \n",
       "3  3bfb58cd-7892-48cc-8020-2f17e6de6e7f    appliances  \n",
       "4  313628f1-68b8-460d-84f6-cec7a8796ef2   electronics  \n",
       "5  816a59f3-f5ae-4ccd-9b23-82aa8c23d33c     computers  "
      ]
     },
     "execution_count": 15,
     "metadata": {},
     "output_type": "execute_result"
    }
   ],
   "source": [
    "dataset_nov=mod.add_category(dataset_nov)\n",
    "dataset_nov.head()"
   ]
  },
  {
   "cell_type": "markdown",
   "metadata": {},
   "source": [
    "* in the following analysis have been considered as most trending products the first 100 products purchased. in the following cells are displayed graphs which visualize the sum of the most trending products, grouped by category"
   ]
  },
  {
   "cell_type": "markdown",
   "metadata": {},
   "source": [
    "**october**"
   ]
  },
  {
   "cell_type": "code",
   "execution_count": 16,
   "metadata": {},
   "outputs": [
    {
     "data": {
      "image/png": "[encoded data removed]",
      "text/plain": [
       "<Figure size 1152x648 with 1 Axes>"
      ]
     },
     "metadata": {
      "needs_background": "light"
     },
     "output_type": "display_data"
    },
    {
     "data": {
      "text/plain": [
       "main_category\n",
       "electronics    302300\n",
       "appliances       5051\n",
       "computers        1867\n",
       "Name: product_id, dtype: int64"
      ]
     },
     "execution_count": 16,
     "metadata": {},
     "output_type": "execute_result"
    }
   ],
   "source": [
    "mod.trending_products(dataset_oct)"
   ]
  },
  {
   "cell_type": "markdown",
   "metadata": {},
   "source": [
    "**november**"
   ]
  },
  {
   "cell_type": "code",
   "execution_count": 17,
   "metadata": {},
   "outputs": [
    {
     "data": {
      "image/png": "[encoded data removed]",
      "text/plain": [
       "<Figure size 1152x648 with 1 Axes>"
      ]
     },
     "metadata": {
      "needs_background": "light"
     },
     "output_type": "display_data"
    },
    {
     "data": {
      "text/plain": [
       "main_category\n",
       "electronics    350756\n",
       "appliances       5777\n",
       "computers        1329\n",
       "auto             1100\n",
       "Name: product_id, dtype: int64"
      ]
     },
     "execution_count": 17,
     "metadata": {},
     "output_type": "execute_result"
    }
   ],
   "source": [
    "mod.trending_products(dataset_nov)"
   ]
  },
  {
   "cell_type": "markdown",
   "metadata": {},
   "source": [
    "**plot the most visited subcategories**"
   ]
  },
  {
   "cell_type": "markdown",
   "metadata": {},
   "source": [
    "* in the following analysis have been considered only views events and most trending sucategories\n"
   ]
  },
  {
   "cell_type": "markdown",
   "metadata": {},
   "source": [
    "**october**"
   ]
  },
  {
   "cell_type": "code",
   "execution_count": 18,
   "metadata": {},
   "outputs": [
    {
     "data": {
      "image/png": "[encoded data removed]",
      "text/plain": [
       "<Figure size 1152x648 with 1 Axes>"
      ]
     },
     "metadata": {
      "needs_background": "light"
     },
     "output_type": "display_data"
    },
    {
     "data": {
      "text/plain": [
       "category_code\n",
       "electronics.smartphone           6571673\n",
       "electronics.audio.headphone       454024\n",
       "electronics.video.tv              233093\n",
       "appliances.kitchen.washer         131449\n",
       "electronics.clocks                 74173\n",
       "computers.notebook                 72500\n",
       "appliances.environment.vacuum      46306\n",
       "Name: product_id, dtype: int64"
      ]
     },
     "execution_count": 18,
     "metadata": {},
     "output_type": "execute_result"
    }
   ],
   "source": [
    "mod.subcategories(dataset_oct)"
   ]
  },
  {
   "cell_type": "markdown",
   "metadata": {},
   "source": [
    "**november**"
   ]
  },
  {
   "cell_type": "code",
   "execution_count": 19,
   "metadata": {},
   "outputs": [
    {
     "data": {
      "image/png": "[encoded data removed]",
      "text/plain": [
       "<Figure size 1152x648 with 1 Axes>"
      ]
     },
     "metadata": {
      "needs_background": "light"
     },
     "output_type": "display_data"
    },
    {
     "data": {
      "text/plain": [
       "category_code\n",
       "electronics.smartphone              9184569\n",
       "electronics.audio.headphone          834027\n",
       "electronics.video.tv                 512349\n",
       "computers.notebook                   164784\n",
       "appliances.kitchen.washer            148417\n",
       "appliances.environment.vacuum         61307\n",
       "appliances.kitchen.refrigerators      50804\n",
       "electronics.clocks                    47069\n",
       "auto.accessories.alarm                46286\n",
       "Name: product_id, dtype: int64"
      ]
     },
     "execution_count": 19,
     "metadata": {},
     "output_type": "execute_result"
    }
   ],
   "source": [
    "mod.subcategories(dataset_nov)"
   ]
  },
  {
   "cell_type": "markdown",
   "metadata": {},
   "source": [
    "**what are the ten most sold products per category?**"
   ]
  },
  {
   "cell_type": "markdown",
   "metadata": {},
   "source": [
    "* In the following analysis have been taken into account only the categories of the most trending products. For each of this category are displayed the first ten products ordered by number of sales for product"
   ]
  },
  {
   "cell_type": "markdown",
   "metadata": {},
   "source": [
    "**october**"
   ]
  },
  {
   "cell_type": "code",
   "execution_count": 20,
   "metadata": {},
   "outputs": [
    {
     "name": "stdout",
     "output_type": "stream",
     "text": [
      "ELECTRONICS\n",
      "product_id  main_category\n",
      "1004856     electronics      28944\n",
      "1004767     electronics      21806\n",
      "1004833     electronics      12697\n",
      "1005115     electronics      12543\n",
      "4804056     electronics      12381\n",
      "1004870     electronics      10615\n",
      "1002544     electronics      10549\n",
      "1004249     electronics       9090\n",
      "1004836     electronics       7691\n",
      "1005105     electronics       7293\n",
      "Name: product_id, dtype: int64\n",
      "APPLIANCES\n",
      "product_id  main_category\n",
      "3700926     appliances       1675\n",
      "3600661     appliances       1482\n",
      "3600163     appliances       1017\n",
      "3600666     appliances        877\n",
      "2900536     appliances        831\n",
      "3601405     appliances        768\n",
      "3601485     appliances        627\n",
      "2701657     appliances        566\n",
      "3601244     appliances        559\n",
      "3701134     appliances        543\n",
      "Name: product_id, dtype: int64\n",
      "COMPUTERS\n",
      "product_id  main_category\n",
      "1307310     computers        1003\n",
      "1307073     computers         864\n",
      "1307366     computers         722\n",
      "1307067     computers         651\n",
      "1306650     computers         649\n",
      "1307074     computers         416\n",
      "1307188     computers         378\n",
      "1307187     computers         356\n",
      "1306359     computers         350\n",
      "1307350     computers         324\n",
      "Name: product_id, dtype: int64\n"
     ]
    }
   ],
   "source": [
    "mod.ten_most_sold(dataset_oct)"
   ]
  },
  {
   "cell_type": "markdown",
   "metadata": {},
   "source": [
    "**november**"
   ]
  },
  {
   "cell_type": "code",
   "execution_count": 21,
   "metadata": {},
   "outputs": [
    {
     "name": "stdout",
     "output_type": "stream",
     "text": [
      "ELECTRONICS\n",
      "product_id  main_category\n",
      "1004856     electronics      32321\n",
      "1004767     electronics      22613\n",
      "1005115     electronics      22244\n",
      "4804056     electronics      17800\n",
      "1004833     electronics      13486\n",
      "1002544     electronics      11678\n",
      "1004870     electronics      10673\n",
      "1005100     electronics      10132\n",
      "1004249     electronics       8881\n",
      "1005105     electronics       8483\n",
      "Name: product_id, dtype: int64\n",
      "APPLIANCES\n",
      "product_id  main_category\n",
      "3700926     appliances       1764\n",
      "3600661     appliances       1742\n",
      "3601405     appliances       1140\n",
      "3600666     appliances       1131\n",
      "2900958     appliances        903\n",
      "3700766     appliances        895\n",
      "3601603     appliances        895\n",
      "3600163     appliances        879\n",
      "2702277     appliances        675\n",
      "3701134     appliances        624\n",
      "Name: product_id, dtype: int64\n",
      "COMPUTERS\n",
      "product_id  main_category\n",
      "1307310     computers        1329\n",
      "1307545     computers         879\n",
      "1307188     computers         829\n",
      "1307073     computers         740\n",
      "1307067     computers         538\n",
      "1307076     computers         500\n",
      "1307589     computers         473\n",
      "1307004     computers         390\n",
      "1307187     computers         388\n",
      "1307135     computers         327\n",
      "Name: product_id, dtype: int64\n",
      "AUTO\n",
      "product_id  main_category\n",
      "6000094     auto             1100\n",
      "6000227     auto              489\n",
      "4700478     auto              483\n",
      "5701166     auto              274\n",
      "6000004     auto              274\n",
      "6000229     auto              253\n",
      "5701128     auto              246\n",
      "5701002     auto              244\n",
      "6000157     auto              211\n",
      "5701086     auto              182\n",
      "Name: product_id, dtype: int64\n"
     ]
    }
   ],
   "source": [
    "mod.ten_most_sold(dataset_nov)"
   ]
  },
  {
   "cell_type": "markdown",
   "metadata": {},
   "source": [
    "### <br><br><br><br>[RQ3] For each category, what’s the brand whose prices are higher on average?\n",
    "#### * Write a function that asks the user a category in input and returns a plot indicating the average price of the products sold by the brand.\n"
   ]
  },
  {
   "cell_type": "markdown",
   "metadata": {},
   "source": [
    "* in the following two cells is applied a function which adds the category to the dataset. As category is considered the first world (for example computers.notebooks has computers as category). As subcategory, instead ,it has been considered the category_code (for example computers.notebooks is the subcategory)."
   ]
  },
  {
   "cell_type": "markdown",
   "metadata": {},
   "source": [
    "**For each category, what’s the brand whose prices are higher on average? Write a function that asks the user a category in input and returns a plot indicating the average price of the products sold by the brand.**"
   ]
  },
  {
   "cell_type": "markdown",
   "metadata": {},
   "source": [
    "* in the following analysis, the aim is to give a picture of average brand prices for brands belonging to a specific category "
   ]
  },
  {
   "cell_type": "markdown",
   "metadata": {},
   "source": [
    "* in the following graphs are shown only the top 50 brands with the higher average price, due to the fact that using the entire dataset, the number of brands is high in a measure that it is not possibile to give a clear graphical representation."
   ]
  },
  {
   "cell_type": "markdown",
   "metadata": {},
   "source": [
    "**october**"
   ]
  },
  {
   "cell_type": "code",
   "execution_count": 24,
   "metadata": {},
   "outputs": [
    {
     "name": "stdout",
     "output_type": "stream",
     "text": [
      "computers\n"
     ]
    },
    {
     "data": {
      "text/plain": [
       "<Figure size 432x288 with 0 Axes>"
      ]
     },
     "metadata": {},
     "output_type": "display_data"
    },
    {
     "data": {
      "image/png": "[encoded data removed]",
      "text/plain": [
       "<Figure size 1152x720 with 1 Axes>"
      ]
     },
     "metadata": {
      "needs_background": "light"
     },
     "output_type": "display_data"
    }
   ],
   "source": [
    "category_input=input().lower()\n",
    "result_october=mod.average_price(category_input, dataset_oct)\n",
    "result_october=result_october.sort_values(by=[\"price\"], ascending=False)\n",
    "result_october_first50=result_october.head(50)\n",
    "plt.figure()\n",
    "result_october_first50.plot.barh(figsize=(16,10),color=\"lightblue\" ,title=\"average price for category of different brands in october 2019\")\n",
    "plt.show()"
   ]
  },
  {
   "cell_type": "markdown",
   "metadata": {},
   "source": [
    "**november**"
   ]
  },
  {
   "cell_type": "code",
   "execution_count": 25,
   "metadata": {},
   "outputs": [
    {
     "name": "stdout",
     "output_type": "stream",
     "text": [
      "computers\n"
     ]
    },
    {
     "data": {
      "text/plain": [
       "<Figure size 432x288 with 0 Axes>"
      ]
     },
     "metadata": {},
     "output_type": "display_data"
    },
    {
     "data": {
      "image/png": "[encoded data removed]",
      "text/plain": [
       "<Figure size 1152x720 with 1 Axes>"
      ]
     },
     "metadata": {
      "needs_background": "light"
     },
     "output_type": "display_data"
    }
   ],
   "source": [
    "category_input=input().lower()\n",
    "result_november=mod.average_price(category_input, dataset_nov)\n",
    "result_november=result_november.sort_values(by=[\"price\"], ascending=False)\n",
    "result_november_first50=result_november.head(50)\n",
    "import matplotlib.pyplot as plt\n",
    "plt.figure()\n",
    "result_november_first50.plot.barh(figsize=(16,10),color=\"lightblue\" ,title=\"average price for category of different brands in november 2019\")\n",
    "plt.show()"
   ]
  },
  {
   "cell_type": "markdown",
   "metadata": {},
   "source": [
    "#### * Find, for each category, the brand with the highest average price. Return all the results in ascending order by price."
   ]
  },
  {
   "cell_type": "markdown",
   "metadata": {},
   "source": [
    "**october**"
   ]
  },
  {
   "cell_type": "code",
   "execution_count": 26,
   "metadata": {},
   "outputs": [
    {
     "data": {
      "text/html": [
       "<div>\n",
       "<style scoped>\n",
       "    .dataframe tbody tr th:only-of-type {\n",
       "        vertical-align: middle;\n",
       "    }\n",
       "\n",
       "    .dataframe tbody tr th {\n",
       "        vertical-align: top;\n",
       "    }\n",
       "\n",
       "    .dataframe thead th {\n",
       "        text-align: right;\n",
       "    }\n",
       "</style>\n",
       "<table border=\"1\" class=\"dataframe\">\n",
       "  <thead>\n",
       "    <tr style=\"text-align: right;\">\n",
       "      <th></th>\n",
       "      <th>category</th>\n",
       "      <th>brand</th>\n",
       "      <th>average_price</th>\n",
       "    </tr>\n",
       "  </thead>\n",
       "  <tbody>\n",
       "    <tr>\n",
       "      <th>0</th>\n",
       "      <td>medicine</td>\n",
       "      <td>omron</td>\n",
       "      <td>97.429912</td>\n",
       "    </tr>\n",
       "    <tr>\n",
       "      <th>1</th>\n",
       "      <td>stationery</td>\n",
       "      <td>hp</td>\n",
       "      <td>115.685154</td>\n",
       "    </tr>\n",
       "    <tr>\n",
       "      <th>2</th>\n",
       "      <td>apparel</td>\n",
       "      <td>cybex</td>\n",
       "      <td>325.472000</td>\n",
       "    </tr>\n",
       "    <tr>\n",
       "      <th>3</th>\n",
       "      <td>accessories</td>\n",
       "      <td>weekend</td>\n",
       "      <td>514.170000</td>\n",
       "    </tr>\n",
       "    <tr>\n",
       "      <th>4</th>\n",
       "      <td>country_yard</td>\n",
       "      <td>viking</td>\n",
       "      <td>692.069655</td>\n",
       "    </tr>\n",
       "    <tr>\n",
       "      <th>5</th>\n",
       "      <td>auto</td>\n",
       "      <td>schneider</td>\n",
       "      <td>788.612000</td>\n",
       "    </tr>\n",
       "    <tr>\n",
       "      <th>6</th>\n",
       "      <td>construction</td>\n",
       "      <td>telwin</td>\n",
       "      <td>1138.780000</td>\n",
       "    </tr>\n",
       "    <tr>\n",
       "      <th>7</th>\n",
       "      <td>furniture</td>\n",
       "      <td>aldit</td>\n",
       "      <td>1283.453750</td>\n",
       "    </tr>\n",
       "    <tr>\n",
       "      <th>8</th>\n",
       "      <td>appliances</td>\n",
       "      <td>jura</td>\n",
       "      <td>1679.017346</td>\n",
       "    </tr>\n",
       "    <tr>\n",
       "      <th>9</th>\n",
       "      <td>computers</td>\n",
       "      <td>dreammachines</td>\n",
       "      <td>1801.820000</td>\n",
       "    </tr>\n",
       "    <tr>\n",
       "      <th>10</th>\n",
       "      <td>kids</td>\n",
       "      <td>hartan</td>\n",
       "      <td>1801.820000</td>\n",
       "    </tr>\n",
       "    <tr>\n",
       "      <th>11</th>\n",
       "      <td>electronics</td>\n",
       "      <td>rado</td>\n",
       "      <td>1894.514444</td>\n",
       "    </tr>\n",
       "    <tr>\n",
       "      <th>12</th>\n",
       "      <td>sport</td>\n",
       "      <td>pinarello</td>\n",
       "      <td>2470.850000</td>\n",
       "    </tr>\n",
       "  </tbody>\n",
       "</table>\n",
       "</div>"
      ],
      "text/plain": [
       "        category          brand  average_price\n",
       "0       medicine          omron      97.429912\n",
       "1     stationery             hp     115.685154\n",
       "2        apparel          cybex     325.472000\n",
       "3    accessories        weekend     514.170000\n",
       "4   country_yard         viking     692.069655\n",
       "5           auto      schneider     788.612000\n",
       "6   construction         telwin    1138.780000\n",
       "7      furniture          aldit    1283.453750\n",
       "8     appliances           jura    1679.017346\n",
       "9      computers  dreammachines    1801.820000\n",
       "10          kids         hartan    1801.820000\n",
       "11   electronics           rado    1894.514444\n",
       "12         sport      pinarello    2470.850000"
      ]
     },
     "execution_count": 26,
     "metadata": {},
     "output_type": "execute_result"
    }
   ],
   "source": [
    "categories=dataset_oct[\"main_category\"].unique()\n",
    "mod.most_expensive_brands(categories, dataset_oct)"
   ]
  },
  {
   "cell_type": "markdown",
   "metadata": {},
   "source": [
    "**november**"
   ]
  },
  {
   "cell_type": "code",
   "execution_count": 27,
   "metadata": {},
   "outputs": [
    {
     "data": {
      "text/html": [
       "<div>\n",
       "<style scoped>\n",
       "    .dataframe tbody tr th:only-of-type {\n",
       "        vertical-align: middle;\n",
       "    }\n",
       "\n",
       "    .dataframe tbody tr th {\n",
       "        vertical-align: top;\n",
       "    }\n",
       "\n",
       "    .dataframe thead th {\n",
       "        text-align: right;\n",
       "    }\n",
       "</style>\n",
       "<table border=\"1\" class=\"dataframe\">\n",
       "  <thead>\n",
       "    <tr style=\"text-align: right;\">\n",
       "      <th></th>\n",
       "      <th>category</th>\n",
       "      <th>brand</th>\n",
       "      <th>average_price</th>\n",
       "    </tr>\n",
       "  </thead>\n",
       "  <tbody>\n",
       "    <tr>\n",
       "      <th>0</th>\n",
       "      <td>medicine</td>\n",
       "      <td>omron</td>\n",
       "      <td>91.046132</td>\n",
       "    </tr>\n",
       "    <tr>\n",
       "      <th>1</th>\n",
       "      <td>stationery</td>\n",
       "      <td>hp</td>\n",
       "      <td>144.627117</td>\n",
       "    </tr>\n",
       "    <tr>\n",
       "      <th>2</th>\n",
       "      <td>accessories</td>\n",
       "      <td>weekend</td>\n",
       "      <td>514.170000</td>\n",
       "    </tr>\n",
       "    <tr>\n",
       "      <th>3</th>\n",
       "      <td>country_yard</td>\n",
       "      <td>viking</td>\n",
       "      <td>703.612857</td>\n",
       "    </tr>\n",
       "    <tr>\n",
       "      <th>4</th>\n",
       "      <td>auto</td>\n",
       "      <td>remeza</td>\n",
       "      <td>863.195714</td>\n",
       "    </tr>\n",
       "    <tr>\n",
       "      <th>5</th>\n",
       "      <td>apparel</td>\n",
       "      <td>sergiorossi</td>\n",
       "      <td>958.566429</td>\n",
       "    </tr>\n",
       "    <tr>\n",
       "      <th>6</th>\n",
       "      <td>appliances</td>\n",
       "      <td>cooperhunter</td>\n",
       "      <td>1674.226667</td>\n",
       "    </tr>\n",
       "    <tr>\n",
       "      <th>7</th>\n",
       "      <td>kids</td>\n",
       "      <td>hartan</td>\n",
       "      <td>1801.820000</td>\n",
       "    </tr>\n",
       "    <tr>\n",
       "      <th>8</th>\n",
       "      <td>electronics</td>\n",
       "      <td>rado</td>\n",
       "      <td>1841.715200</td>\n",
       "    </tr>\n",
       "    <tr>\n",
       "      <th>9</th>\n",
       "      <td>furniture</td>\n",
       "      <td>senspa</td>\n",
       "      <td>1930.542000</td>\n",
       "    </tr>\n",
       "    <tr>\n",
       "      <th>10</th>\n",
       "      <td>construction</td>\n",
       "      <td>helix</td>\n",
       "      <td>2033.526250</td>\n",
       "    </tr>\n",
       "    <tr>\n",
       "      <th>11</th>\n",
       "      <td>computers</td>\n",
       "      <td>dreammachines</td>\n",
       "      <td>2187.495000</td>\n",
       "    </tr>\n",
       "    <tr>\n",
       "      <th>12</th>\n",
       "      <td>sport</td>\n",
       "      <td>pinarello</td>\n",
       "      <td>2573.810000</td>\n",
       "    </tr>\n",
       "  </tbody>\n",
       "</table>\n",
       "</div>"
      ],
      "text/plain": [
       "        category          brand  average_price\n",
       "0       medicine          omron      91.046132\n",
       "1     stationery             hp     144.627117\n",
       "2    accessories        weekend     514.170000\n",
       "3   country_yard         viking     703.612857\n",
       "4           auto         remeza     863.195714\n",
       "5        apparel    sergiorossi     958.566429\n",
       "6     appliances   cooperhunter    1674.226667\n",
       "7           kids         hartan    1801.820000\n",
       "8    electronics           rado    1841.715200\n",
       "9      furniture         senspa    1930.542000\n",
       "10  construction          helix    2033.526250\n",
       "11     computers  dreammachines    2187.495000\n",
       "12         sport      pinarello    2573.810000"
      ]
     },
     "execution_count": 27,
     "metadata": {},
     "output_type": "execute_result"
    }
   ],
   "source": [
    "categories1=dataset_nov[\"main_category\"].unique()\n",
    "mod.most_expensive_brands(categories1, dataset_nov)"
   ]
  },
  {
   "cell_type": "markdown",
   "metadata": {},
   "source": [
    "### <br><br><br><br>[RQ4] How much does each brand earn per month? Write a function that given the name of a brand in input returns, for each month, its profit. Is the average price of products of different brands significantly different?"
   ]
  },
  {
   "cell_type": "markdown",
   "metadata": {},
   "source": [
    "*function which calculates earnings*"
   ]
  },
  {
   "cell_type": "markdown",
   "metadata": {},
   "source": [
    "* the task provided asks to calculate the profit, however this is not possible because, in order to calculate the profit, we should have information about cost for each product, which is not provided. So the analysis is limited to revenues."
   ]
  },
  {
   "cell_type": "markdown",
   "metadata": {},
   "source": [
    "* it is asked to the user the desired brand, and it is calculated for that brand the correspondig revenue"
   ]
  },
  {
   "cell_type": "markdown",
   "metadata": {},
   "source": [
    "**october**"
   ]
  },
  {
   "cell_type": "code",
   "execution_count": 36,
   "metadata": {},
   "outputs": [
    {
     "name": "stdout",
     "output_type": "stream",
     "text": [
      "insert a brand for october\n",
      "apple\n",
      "earnings for the brand in october are:  111189822.29\n"
     ]
    }
   ],
   "source": [
    "brand_name=input(\"insert a brand for october\\n\")\n",
    "print(\"earnings for the brand in october are: \", mod.earnings(brand_name, dataset_oct))"
   ]
  },
  {
   "cell_type": "markdown",
   "metadata": {},
   "source": [
    "**november**"
   ]
  },
  {
   "cell_type": "code",
   "execution_count": 29,
   "metadata": {},
   "outputs": [
    {
     "name": "stdout",
     "output_type": "stream",
     "text": [
      "insert a brand for november\n",
      "apple\n",
      "earnings for the brand in november are:  127490496.63000001\n"
     ]
    }
   ],
   "source": [
    "brand_name1=input(\"insert a brand for november\\n\")\n",
    "print(\"earnings for the brand in november are: \", mod.earnings(brand_name1, dataset_nov))"
   ]
  },
  {
   "cell_type": "markdown",
   "metadata": {},
   "source": [
    "**Is the average price of products of different brands significantly different?**"
   ]
  },
  {
   "cell_type": "markdown",
   "metadata": {},
   "source": [
    "* In this analysis is considered the inter-brand difference rather than the intra-brand difference. the dataset contains a wide range of categories and each of them has its own properties in terms of average price (for instance it is more probable that computers costs, on average, more than medicines). So there will be likely inter-brands distances that result relevant."
   ]
  },
  {
   "cell_type": "markdown",
   "metadata": {},
   "source": [
    "**october**"
   ]
  },
  {
   "cell_type": "code",
   "execution_count": 30,
   "metadata": {},
   "outputs": [
    {
     "name": "stdout",
     "output_type": "stream",
     "text": [
      "brand\n",
      "mutsy               0.90\n",
      "acqua               2.96\n",
      "intro               3.84\n",
      "global              3.84\n",
      "nici                3.86\n",
      "                  ...   \n",
      "dreammachines    1801.82\n",
      "hartan           1801.82\n",
      "minimotors       2033.51\n",
      "rado             2069.55\n",
      "jura             2542.84\n",
      "Name: price, Length: 1052, dtype: float64 \n",
      "\n",
      "DESCRIPTIVE STATISTICS FOR THE AVERAGE PRICES OF BRANDS FOR OCTOBER 2019\n",
      "\n",
      "count    1052.000000\n",
      "mean      189.628142\n",
      "std       266.753587\n",
      "min         0.900000\n",
      "25%        43.707781\n",
      "50%        98.173333\n",
      "75%       223.772793\n",
      "max      2542.840000\n",
      "Name: price, dtype: float64\n"
     ]
    }
   ],
   "source": [
    "october=mod.price_difference(dataset_oct) \n",
    "describe_october=october.describe()\n",
    "\n",
    "print(october,\"\\n\")\n",
    "print(\"descriptive statistics for the average prices of brands for october 2019\\n\".upper())\n",
    "print(describe_october)"
   ]
  },
  {
   "cell_type": "markdown",
   "metadata": {},
   "source": [
    "**in the following histogram is displayed the distribution of average prices which can give a better idea of difference of prices between brands**"
   ]
  },
  {
   "cell_type": "code",
   "execution_count": 31,
   "metadata": {},
   "outputs": [
    {
     "data": {
      "text/plain": [
       "<function matplotlib.pyplot.show(*args, **kw)>"
      ]
     },
     "execution_count": 31,
     "metadata": {},
     "output_type": "execute_result"
    },
    {
     "data": {
      "image/png": "[encoded data removed]",
      "text/plain": [
       "<Figure size 432x288 with 1 Axes>"
      ]
     },
     "metadata": {
      "needs_background": "light"
     },
     "output_type": "display_data"
    }
   ],
   "source": [
    "plt.figure()\n",
    "plt.title(\"histogram of average prices of brands in october\")\n",
    "plt.hist(october,100,color=\"lightblue\")\n",
    "plt.show"
   ]
  },
  {
   "cell_type": "markdown",
   "metadata": {},
   "source": [
    "**november**"
   ]
  },
  {
   "cell_type": "code",
   "execution_count": 32,
   "metadata": {},
   "outputs": [
    {
     "name": "stdout",
     "output_type": "stream",
     "text": [
      "brand\n",
      "soyntec             2.550000\n",
      "dagee               2.930000\n",
      "acqua               2.960000\n",
      "intro               3.840000\n",
      "inkax               3.860000\n",
      "                    ...     \n",
      "longines         1648.261667\n",
      "louiserard       1657.700000\n",
      "electro-voice    1713.645000\n",
      "rado             1899.660000\n",
      "dynacord         1919.480000\n",
      "Name: price, Length: 1236, dtype: float64 \n",
      "\n",
      "DESCRIPTIVE STATISTICS FOR THE AVERAGE PRICES OF BRANDS FOR NOVEMBER 2019\n",
      "\n",
      "count    1236.000000\n",
      "mean      185.731411\n",
      "std       243.422706\n",
      "min         2.550000\n",
      "25%        45.860397\n",
      "50%       100.941509\n",
      "75%       227.483053\n",
      "max      1919.480000\n",
      "Name: price, dtype: float64\n"
     ]
    }
   ],
   "source": [
    "november=mod.price_difference(dataset_nov)\n",
    "describe_november=november.describe()\n",
    "\n",
    "print(november,\"\\n\")\n",
    "print(\"descriptive statistics for the average prices of brands for november 2019\\n\".upper())\n",
    "print(describe_november)\n"
   ]
  },
  {
   "cell_type": "markdown",
   "metadata": {},
   "source": [
    "**in the following histogram is displayed the distribution of average prices which can give a better idea of difference of prices between brands**"
   ]
  },
  {
   "cell_type": "code",
   "execution_count": 33,
   "metadata": {},
   "outputs": [
    {
     "data": {
      "text/plain": [
       "<function matplotlib.pyplot.show(*args, **kw)>"
      ]
     },
     "execution_count": 33,
     "metadata": {},
     "output_type": "execute_result"
    },
    {
     "data": {
      "image/png": "[encoded data removed]",
      "text/plain": [
       "<Figure size 432x288 with 1 Axes>"
      ]
     },
     "metadata": {
      "needs_background": "light"
     },
     "output_type": "display_data"
    }
   ],
   "source": [
    "plt.figure()\n",
    "plt.title(\"histogram of average prices of brands in november\")\n",
    "plt.hist(november,100,color=\"lightgreen\")\n",
    "plt.show"
   ]
  },
  {
   "cell_type": "markdown",
   "metadata": {},
   "source": [
    "**Using the function you just created, find the top 3 brands that have suffered the biggest losses in earnings between one month and the next, specifing both the loss percentage and the 2 months (e.g., brand_1 lost 20% between march and april).**"
   ]
  },
  {
   "cell_type": "markdown",
   "metadata": {},
   "source": [
    "* for this analysis, which compares brand performance between two months, have been taken into account only the brands which are in both months."
   ]
  },
  {
   "cell_type": "code",
   "execution_count": 34,
   "metadata": {},
   "outputs": [
    {
     "name": "stdout",
     "output_type": "stream",
     "text": [
      "ava  had a percentage decrease, between october 2019 and november 2019 of \n",
      " -97.66 %\n",
      "evga  had a percentage decrease, between october 2019 and november 2019 of \n",
      " -95.9 %\n",
      "biostar  had a percentage decrease, between october 2019 and november 2019 of \n",
      " -91.84 %\n"
     ]
    }
   ],
   "source": [
    "mod.earnings_loss(dataset_oct,dataset_nov)"
   ]
  },
  {
   "cell_type": "markdown",
   "metadata": {},
   "source": [
    "### <br><br><br><br> [RQ5] In what part of the day is your store most visited? Knowing which days of the week or even which hours of the day shoppers are likely to visit your online store and make a purchase may help you improve your strategies. Create a plot that for each day of the week show the hourly average of visitors your store has."
   ]
  },
  {
   "cell_type": "markdown",
   "metadata": {},
   "source": [
    "#### In what part of the day is your store most visited? "
   ]
  },
  {
   "cell_type": "code",
   "execution_count": 5,
   "metadata": {},
   "outputs": [
    {
     "name": "stdout",
     "output_type": "stream",
     "text": [
      "In what part of the day is your store most visited? 16 o'clock\n",
      "Number of views: 7270950\n"
     ]
    },
    {
     "data": {
      "image/png": "[encoded data removed]",
      "text/plain": [
       "<Figure size 432x288 with 1 Axes>"
      ]
     },
     "metadata": {
      "needs_background": "light"
     },
     "output_type": "display_data"
    },
    {
     "data": {
      "image/png": "[encoded data removed]",
      "text/plain": [
       "<Figure size 432x288 with 1 Axes>"
      ]
     },
     "metadata": {
      "needs_background": "light"
     },
     "output_type": "display_data"
    }
   ],
   "source": [
    "modd.request_five(dataset1)"
   ]
  },
  {
   "cell_type": "markdown",
   "metadata": {},
   "source": [
    "### <br><br><br><br>[RQ6] The conversion rate of a product is given by the number of times a product has been bought over the number of times it has been visited. What's the conversion rate of your online store?\n",
    "#### * Find the overall conversion rate of your store.\n",
    "#### * Plot the number of purchases of each category and show the conversion rate of each category in decreasing order."
   ]
  },
  {
   "cell_type": "code",
   "execution_count": 6,
   "metadata": {},
   "outputs": [
    {
     "name": "stdout",
     "output_type": "stream",
     "text": [
      "Find the overall conversion rate of your store:\n",
      "Overall conversion rate: 0.016\n"
     ]
    },
    {
     "name": "stderr",
     "output_type": "stream",
     "text": [
      "C:\\Users\\Zain\\Desktop\\ROMA\\Sapienza\\ADM\\HW2\\scripts\\functions1.py:58: RuntimeWarning: overflow encountered in long_scalars\n",
      "  df = pd.DataFrame({'overall conversion rate': [(num*100)/tot, (denom*100)/tot]},\n"
     ]
    },
    {
     "data": {
      "image/png": "[encoded data removed]",
      "text/plain": [
       "<Figure size 360x360 with 1 Axes>"
      ]
     },
     "metadata": {},
     "output_type": "display_data"
    },
    {
     "data": {
      "image/png": "[encoded data removed]",
      "text/plain": [
       "<Figure size 1152x648 with 1 Axes>"
      ]
     },
     "metadata": {
      "needs_background": "light"
     },
     "output_type": "display_data"
    },
    {
     "data": {
      "image/png": "[encoded data removed]",
      "text/plain": [
       "<Figure size 432x288 with 1 Axes>"
      ]
     },
     "metadata": {
      "needs_background": "light"
     },
     "output_type": "display_data"
    }
   ],
   "source": [
    "modd.request_six(dataset1)"
   ]
  },
  {
   "cell_type": "markdown",
   "metadata": {},
   "source": [
    "### <br><br><br><br> [RQ7] The Pareto principle states that for many outcomes roughly 80% of consequences come from 20% of the causes. Also known as 80/20 rule, in e-commerce simply means that most of your business, around 80%, likely comes from about 20% of your customers.\n",
    "#### * Prove that the pareto principle applies to your store."
   ]
  },
  {
   "cell_type": "code",
   "execution_count": 10,
   "metadata": {},
   "outputs": [
    {
     "data": {
      "image/png": "[encoded data removed]",
      "text/plain": [
       "<Figure size 432x288 with 1 Axes>"
      ]
     },
     "metadata": {
      "needs_background": "light"
     },
     "output_type": "display_data"
    },
    {
     "name": "stdout",
     "output_type": "stream",
     "text": [
      "Most of your business, around 67%, likely comes from about 20% of your customers\n"
     ]
    }
   ],
   "source": [
    "modd.request_seven(dataset1)"
   ]
  },
  {
   "cell_type": "code",
   "execution_count": null,
   "metadata": {},
   "outputs": [],
   "source": []
  }
 ],
 "metadata": {
  "kernelspec": {
   "display_name": "Python 3.6 (tensorflow)",
   "language": "python",
   "name": "tensorflow"
  },
  "language_info": {
   "codemirror_mode": {
    "name": "ipython",
    "version": 3
   },
   "file_extension": ".py",
   "mimetype": "text/x-python",
   "name": "python",
   "nbconvert_exporter": "python",
   "pygments_lexer": "ipython3",
   "version": "3.6.9"
  }
 },
 "nbformat": 4,
 "nbformat_minor": 2
}
