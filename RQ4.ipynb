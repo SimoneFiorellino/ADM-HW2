{
 "cells": [
  {
   "cell_type": "markdown",
   "metadata": {},
   "source": [
    "# rq4 #"
   ]
  },
  {
   "cell_type": "code",
   "execution_count": 3,
   "metadata": {},
   "outputs": [],
   "source": [
    "import pandas as pd\n",
    "import numpy as np\n",
    "dataset_oct=pd.read_csv(\"2019-Oct.csv\", header=\"infer\", parse_dates=[\"event_time\"],date_parser=pd.to_datetime,nrows=100000)\n",
    "\n",
    "\n"
   ]
  },
  {
   "cell_type": "code",
   "execution_count": 4,
   "metadata": {},
   "outputs": [],
   "source": [
    "import pandas as pd\n",
    "dataset_nov=pd.read_csv(\"/Users/eugeniobaldo/Desktop/2019-Nov.csv\", header=\"infer\", parse_dates=[\"event_time\"],date_parser=pd.to_datetime, nrows=100000)\n"
   ]
  },
  {
   "cell_type": "code",
   "execution_count": 5,
   "metadata": {},
   "outputs": [],
   "source": [
    "import functions as mod"
   ]
  },
  {
   "cell_type": "markdown",
   "metadata": {},
   "source": [
    "**How much does each brand earn per month? Write a function that given the name of a brand in input returns, for each month, its profit.**"
   ]
  },
  {
   "cell_type": "markdown",
   "metadata": {},
   "source": [
    "*function which calculates earnings*"
   ]
  },
  {
   "cell_type": "markdown",
   "metadata": {},
   "source": [
    "* the task provided asks to calculate the profit, however this is not possible because, in order to calculate the profit, we should have information about cost for each product, which is not provided. So the analysis is limited to revenues."
   ]
  },
  {
   "cell_type": "markdown",
   "metadata": {},
   "source": [
    "* it is asked to the user the desired brand, and it is calculated for that brand the correspondig revenue"
   ]
  },
  {
   "cell_type": "markdown",
   "metadata": {},
   "source": [
    "**october**"
   ]
  },
  {
   "cell_type": "code",
   "execution_count": 7,
   "metadata": {},
   "outputs": [
    {
     "name": "stdout",
     "output_type": "stream",
     "text": [
      "insert a brand for october\n",
      "apple\n",
      "earnings for the brand in october are:  230080.4\n"
     ]
    }
   ],
   "source": [
    "brand_name=input(\"insert a brand for october\\n\")\n",
    "print(\"earnings for the brand in october are: \", mod.earnings(brand_name, dataset_oct))"
   ]
  },
  {
   "cell_type": "markdown",
   "metadata": {},
   "source": [
    "**november**"
   ]
  },
  {
   "cell_type": "code",
   "execution_count": 8,
   "metadata": {},
   "outputs": [
    {
     "name": "stdout",
     "output_type": "stream",
     "text": [
      "insert a brand for november\n",
      "apple\n",
      "earnings for the brand in november are:  182829.52\n"
     ]
    }
   ],
   "source": [
    "brand_name1=input(\"insert a brand for november\\n\")\n",
    "print(\"earnings for the brand in november are: \", mod.earnings(brand_name1, dataset_nov))"
   ]
  },
  {
   "cell_type": "markdown",
   "metadata": {},
   "source": [
    "**Is the average price of products of different brands significantly different?**"
   ]
  },
  {
   "cell_type": "markdown",
   "metadata": {},
   "source": [
    "* In this analysis is considered the inter-brand difference rather than the intra-brand difference. the dataset contains a wide range of categories and each of them has its own properties in terms of average price (for instance it is more probable that computers costs, on average, more than medicines). So there will be likely inter-brands distances that result relevant."
   ]
  },
  {
   "cell_type": "markdown",
   "metadata": {},
   "source": [
    "**october**"
   ]
  },
  {
   "cell_type": "code",
   "execution_count": 9,
   "metadata": {},
   "outputs": [
    {
     "name": "stdout",
     "output_type": "stream",
     "text": [
      "brand\n",
      "ritmix          2.125000\n",
      "ikea            4.350000\n",
      "transcend       5.120000\n",
      "boyscout        5.640000\n",
      "tarkett         5.790000\n",
      "                ...     \n",
      "teploross     615.190000\n",
      "apple         774.681481\n",
      "canon        1362.520000\n",
      "pulser       1369.380000\n",
      "mercury      2499.680000\n",
      "Name: price, Length: 214, dtype: float64 \n",
      "\n",
      "DESCRIPTIVE STATISTICS FOR THE AVERAGE PRICES OF BRANDS FOR OCTOBER 2019\n",
      "\n",
      "count     214.000000\n",
      "mean      160.047686\n",
      "std       241.879292\n",
      "min         2.125000\n",
      "25%        46.165000\n",
      "50%        85.560000\n",
      "75%       179.730000\n",
      "max      2499.680000\n",
      "Name: price, dtype: float64\n"
     ]
    }
   ],
   "source": [
    "\n",
    "october=mod.price_difference(dataset_oct) \n",
    "describe_october=october.describe()\n",
    "\n",
    "print(october,\"\\n\")\n",
    "print(\"descriptive statistics for the average prices of brands for october 2019\\n\".upper())\n",
    "print(describe_october)\n",
    "\n"
   ]
  },
  {
   "cell_type": "markdown",
   "metadata": {},
   "source": [
    "**in the following histogram is displayed the distribution of average prices which can give a better idea of difference of prices between brands**"
   ]
  },
  {
   "cell_type": "code",
   "execution_count": 26,
   "metadata": {},
   "outputs": [
    {
     "data": {
      "text/plain": [
       "<function matplotlib.pyplot.show(*args, **kw)>"
      ]
     },
     "execution_count": 26,
     "metadata": {},
     "output_type": "execute_result"
    },
    {
     "data": {
      "image/png": "[encoded data removed]",
      "text/plain": [
       "<Figure size 432x288 with 1 Axes>"
      ]
     },
     "metadata": {
      "needs_background": "light"
     },
     "output_type": "display_data"
    }
   ],
   "source": [
    "import matplotlib.pyplot as plt\n",
    "plt.figure()\n",
    "plt.title(\"histogram of average prices of brands in october\")\n",
    "plt.hist(october,100,color=\"lightblue\")\n",
    "plt.show"
   ]
  },
  {
   "cell_type": "markdown",
   "metadata": {},
   "source": [
    "**november**"
   ]
  },
  {
   "cell_type": "code",
   "execution_count": 23,
   "metadata": {},
   "outputs": [
    {
     "name": "stdout",
     "output_type": "stream",
     "text": [
      "brand\n",
      "ikea             4.090000\n",
      "kolner           7.720000\n",
      "bethesda         7.720000\n",
      "elite            9.230000\n",
      "bourjois         9.660000\n",
      "                 ...     \n",
      "navien         665.313333\n",
      "apple          731.318080\n",
      "netechnics     772.190000\n",
      "dji           1193.866667\n",
      "msi           1549.070000\n",
      "Name: price, Length: 213, dtype: float64 \n",
      "\n",
      "DESCRIPTIVE STATISTICS FOR THE AVERAGE PRICES OF BRANDS FOR NOVEMBER 2019\n",
      "\n",
      "count     213.000000\n",
      "mean      137.136604\n",
      "std       180.363574\n",
      "min         4.090000\n",
      "25%        41.180000\n",
      "50%        72.330000\n",
      "75%       158.480000\n",
      "max      1549.070000\n",
      "Name: price, dtype: float64\n"
     ]
    }
   ],
   "source": [
    "november=mod.price_difference(dataset_nov)\n",
    "describe_november=november.describe()\n",
    "\n",
    "print(november,\"\\n\")\n",
    "print(\"descriptive statistics for the average prices of brands for november 2019\\n\".upper())\n",
    "print(describe_november)\n"
   ]
  },
  {
   "cell_type": "markdown",
   "metadata": {},
   "source": [
    "**in the following histogram is displayed the distribution of average prices which can give a better idea of difference of prices between brands**"
   ]
  },
  {
   "cell_type": "code",
   "execution_count": 27,
   "metadata": {},
   "outputs": [
    {
     "data": {
      "text/plain": [
       "<function matplotlib.pyplot.show(*args, **kw)>"
      ]
     },
     "execution_count": 27,
     "metadata": {},
     "output_type": "execute_result"
    },
    {
     "data": {
      "image/png": "[encoded data removed]",
      "text/plain": [
       "<Figure size 432x288 with 1 Axes>"
      ]
     },
     "metadata": {
      "needs_background": "light"
     },
     "output_type": "display_data"
    }
   ],
   "source": [
    "import matplotlib.pyplot as plt\n",
    "plt.figure()\n",
    "plt.title(\"histogram of average prices of brands in november\")\n",
    "plt.hist(november,100,color=\"lightgreen\")\n",
    "plt.show"
   ]
  },
  {
   "cell_type": "markdown",
   "metadata": {},
   "source": [
    "**Using the function you just created, find the top 3 brands that have suffered the biggest losses in earnings between one month and the next, specifing both the loss percentage and the 2 months (e.g., brand_1 lost 20% between march and april).**"
   ]
  },
  {
   "cell_type": "markdown",
   "metadata": {},
   "source": [
    "* for this analysis, which compares brand performance between two months, have been taken into account only the brands which are in both months."
   ]
  },
  {
   "cell_type": "code",
   "execution_count": 34,
   "metadata": {},
   "outputs": [
    {
     "name": "stdout",
     "output_type": "stream",
     "text": [
      "janome  had a percentage decrease, between october 2019 and november 2019 of \n",
      " -93.1 %\n",
      "karcher  had a percentage decrease, between october 2019 and november 2019 of \n",
      " -89.93 %\n",
      "hotpoint-ariston  had a percentage decrease, between october 2019 and november 2019 of \n",
      " -85.07 %\n"
     ]
    }
   ],
   "source": [
    "mod.earnings_loss(dataset_oct,dataset_nov)"
   ]
  }
 ],
 "metadata": {
  "kernelspec": {
   "display_name": "Python 3",
   "language": "python",
   "name": "python3"
  },
  "language_info": {
   "codemirror_mode": {
    "name": "ipython",
    "version": 3
   },
   "file_extension": ".py",
   "mimetype": "text/x-python",
   "name": "python",
   "nbconvert_exporter": "python",
   "pygments_lexer": "ipython3",
   "version": "3.7.4"
  }
 },
 "nbformat": 4,
 "nbformat_minor": 2
}
